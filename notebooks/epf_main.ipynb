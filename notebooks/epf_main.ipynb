{
 "cells": [
  {
   "metadata": {},
   "cell_type": "markdown",
   "source": "# Electricity Price Forecasting on the German day-ahead market",
   "id": "ed169d1688aaeead"
  },
  {
   "metadata": {},
   "cell_type": "markdown",
   "source": [
    "This notebook is the main interface to the associated EPF library. Various parameters can be adjusted within the library via the Config file. A more detailed description of the individual parameters can be found within the configuration classes. In the “exploratory_analysis” notebook, the raw data sets are analyzed exploratively and the results are displayed visually. Based on these results, features from the data sets were specifically selected for further use in the deep learning pipeline.\n",
    "\n",
    "The forecasting pipeline is built to automatically perform data preprocessing including data cleaning, outlier removal and seasonal decomposition. Within the configuration feature engineering can be toggled on and of for each feature. Forecasting is done with two different models, that can be retrained and saved anytime. The models available are an LSTM and GRU. They all perform multi-step ahead, single shot forecasts. This means by default each forecast contains 24 time steps into the future, that are forecasted together in one computation."
   ],
   "id": "fd7a16d8c5e10c82"
  },
  {
   "cell_type": "code",
   "id": "initial_id",
   "metadata": {
    "collapsed": true,
    "ExecuteTime": {
     "end_time": "2025-05-30T13:08:34.317162Z",
     "start_time": "2025-05-30T13:08:31.904539Z"
    }
   },
   "source": [
    "from epf.pipeline import EpfPipeline\n",
    "import pickle as pkl\n",
    "\n",
    "pipeline = EpfPipeline()"
   ],
   "outputs": [
    {
     "name": "stderr",
     "output_type": "stream",
     "text": [
      "\u001B[32m2025-05-30 15:08:33.961\u001B[0m | \u001B[1mINFO    \u001B[0m | \u001B[36mepf.config\u001B[0m:\u001B[36m<module>\u001B[0m:\u001B[36m19\u001B[0m - \u001B[1mPROJ_ROOT path is: C:\\Users\\valen\\PycharmProjects\\epf\u001B[0m\n",
      "\u001B[32m2025-05-30 15:08:33.961\u001B[0m | \u001B[1mINFO    \u001B[0m | \u001B[36mepf.config\u001B[0m:\u001B[36mcreate_dir\u001B[0m:\u001B[36m15\u001B[0m - \u001B[1mDATA_DIR path is: C:/Users/valen/PycharmProjects/epf/data\u001B[0m\n",
      "\u001B[32m2025-05-30 15:08:33.976\u001B[0m | \u001B[1mINFO    \u001B[0m | \u001B[36mepf.config\u001B[0m:\u001B[36mcreate_dir\u001B[0m:\u001B[36m15\u001B[0m - \u001B[1mRAW_DATA_DIR path is: C:/Users/valen/PycharmProjects/epf/data/raw\u001B[0m\n",
      "\u001B[32m2025-05-30 15:08:33.976\u001B[0m | \u001B[1mINFO    \u001B[0m | \u001B[36mepf.config\u001B[0m:\u001B[36mcreate_dir\u001B[0m:\u001B[36m15\u001B[0m - \u001B[1mINTERIM_DATA_DIR path is: C:/Users/valen/PycharmProjects/epf/data/interim\u001B[0m\n",
      "\u001B[32m2025-05-30 15:08:33.976\u001B[0m | \u001B[1mINFO    \u001B[0m | \u001B[36mepf.config\u001B[0m:\u001B[36mcreate_dir\u001B[0m:\u001B[36m15\u001B[0m - \u001B[1mPROCESSED_DATA_DIR path is: C:/Users/valen/PycharmProjects/epf/data/processed\u001B[0m\n",
      "\u001B[32m2025-05-30 15:08:33.976\u001B[0m | \u001B[1mINFO    \u001B[0m | \u001B[36mepf.config\u001B[0m:\u001B[36mcreate_dir\u001B[0m:\u001B[36m15\u001B[0m - \u001B[1mTRAIN_DATA_DIR path is: C:/Users/valen/PycharmProjects/epf/data/processed/train_data\u001B[0m\n",
      "\u001B[32m2025-05-30 15:08:33.976\u001B[0m | \u001B[1mINFO    \u001B[0m | \u001B[36mepf.config\u001B[0m:\u001B[36mcreate_dir\u001B[0m:\u001B[36m15\u001B[0m - \u001B[1mMODELS_DIR path is: C:/Users/valen/PycharmProjects/epf/models\u001B[0m\n",
      "\u001B[32m2025-05-30 15:08:33.976\u001B[0m | \u001B[1mINFO    \u001B[0m | \u001B[36mepf.config\u001B[0m:\u001B[36mcreate_dir\u001B[0m:\u001B[36m15\u001B[0m - \u001B[1mPREDICTIONS_DIR path is: C:/Users/valen/PycharmProjects/epf/models/predictions\u001B[0m\n",
      "\u001B[32m2025-05-30 15:08:33.976\u001B[0m | \u001B[1mINFO    \u001B[0m | \u001B[36mepf.config\u001B[0m:\u001B[36mcreate_dir\u001B[0m:\u001B[36m15\u001B[0m - \u001B[1mREPORTS_DIR path is: C:/Users/valen/PycharmProjects/epf/reports\u001B[0m\n",
      "\u001B[32m2025-05-30 15:08:33.976\u001B[0m | \u001B[1mINFO    \u001B[0m | \u001B[36mepf.config\u001B[0m:\u001B[36mcreate_dir\u001B[0m:\u001B[36m15\u001B[0m - \u001B[1mFIGURES_DIR path is: C:/Users/valen/PycharmProjects/epf/reports/figures\u001B[0m\n"
     ]
    },
    {
     "name": "stdout",
     "output_type": "stream",
     "text": [
      "Pipeline initialized with:\n",
      "FeatureConfig: \n",
      "Selected features: \n",
      "['DE-LU Prices', 'DE Solar Generation', 'DE Wind Generation Offshore', 'DE Wind Generation Onshore', 'DE Load', 'Month', 'Day of Week', 'Holiday']\n",
      "WINDOW_LENGTH: 24\n",
      "N_SIGMA: 3\n",
      "METHOD: nearest\n",
      "\n",
      "ModelConfig: \n",
      "TRAIN_SPLIT (upper bound): 2023-09-30 22:00:00+00:00\n",
      "VALIDATION_SPLIT (upper bound): 2023-12-31 22:00:00+00:00\n",
      "MAX_EPOCHS: 100\n",
      "OUT_STEPS: 24\n",
      "SEASONALITY_PERIOD: 24\n",
      "INPUT_WIDTH_FACTOR: 1.25\n",
      "MODEL_BUILDER: LSTM\n",
      "USE_HIDDEN_LAYERS: False\n",
      "NUM_FEATURES: 8\n",
      "UNIT_MIN_VALUE: 32\n",
      "UNIT_MAX_VALUE: 128\n",
      "UNIT_STEP: 32\n",
      "LR_MIN_VALUE: 0.0001\n",
      "LR_MAX_VALUE: 0.1\n",
      "LR_STEP: 0.001\n",
      "DROPOUT_RATE_MIN_VALUE: 0.2\n",
      "DROPOUT_RATE_MAX_VALUE: 0.7\n",
      "DROPOUT_RATE_STEP: 0.05\n",
      "NUM_LAYERS_MIN: 1\n",
      "NUM_LAYERS_MAX: 3\n",
      "NUM_LAYERS_STEP: 1\n",
      "MAX_TRIALS: 50\n",
      "LABEL_COL: de_prices_hat_rm_seasonal\n",
      "\n",
      "\n"
     ]
    }
   ],
   "execution_count": 1
  },
  {
   "metadata": {},
   "cell_type": "code",
   "source": [
    "model_name = 'shifted_lstm_vre_sl'\n",
    "\n",
    "pipeline.train(model_name, overwrite=True)\n",
    "pipeline.evaluate(model_name)"
   ],
   "id": "e8e0684d3f8996a6",
   "execution_count": 2,
   "outputs": [
    {
     "name": "stdout",
     "output_type": "stream",
     "text": [
      "Trial 50 Complete [00h 00m 14s]\n",
      "mean_absolute_error: 0.046248964965343475\n",
      "\n",
      "Best mean_absolute_error So Far: 0.04271925985813141\n",
      "Total elapsed time: 00h 11m 55s\n"
     ]
    },
    {
     "name": "stderr",
     "output_type": "stream",
     "text": [
      "C:\\Users\\valen\\PycharmProjects\\epf\\.venv\\Lib\\site-packages\\keras\\src\\saving\\saving_lib.py:757: UserWarning: Skipping variable loading for optimizer 'adam', because it has 2 variables whereas the saved optimizer has 12 variables. \n",
      "  saveable.load_own_variables(weights_store.get(inner_path))\n",
      "\u001B[32m2025-05-30 15:23:29.040\u001B[0m | \u001B[1mINFO    \u001B[0m | \u001B[36mepf.pipeline\u001B[0m:\u001B[36m_tune_hyperparameters\u001B[0m:\u001B[36m325\u001B[0m - \u001B[1mHyperparameter tuning took 00h:11m:56s.\u001B[0m\n",
      "\u001B[32m2025-05-30 15:23:29.040\u001B[0m | \u001B[32m\u001B[1mSUCCESS \u001B[0m | \u001B[36mepf.pipeline\u001B[0m:\u001B[36mtrain\u001B[0m:\u001B[36m398\u001B[0m - \u001B[32m\u001B[1mSuccessfully tuned hyperparameters for shifted_lstm_vre_sl\u001B[0m\n",
      "\u001B[32m2025-05-30 15:23:29.040\u001B[0m | \u001B[1mINFO    \u001B[0m | \u001B[36mepf.pipeline\u001B[0m:\u001B[36mtrain\u001B[0m:\u001B[36m405\u001B[0m - \u001B[1mTraining shifted_lstm_vre_sl on the following Features:['DE-LU Prices', 'DE Solar Generation', 'DE Wind Generation Offshore', 'DE Wind Generation Onshore', 'DE Load', 'Month', 'Day of Week', 'Holiday'].\u001B[0m\n"
     ]
    },
    {
     "name": "stdout",
     "output_type": "stream",
     "text": [
      "Epoch 1/100\n",
      "\u001B[1m204/204\u001B[0m \u001B[32m━━━━━━━━━━━━━━━━━━━━\u001B[0m\u001B[37m\u001B[0m \u001B[1m3s\u001B[0m 8ms/step - loss: 0.0449 - mean_absolute_error: 0.0449 - root_mean_squared_error: 0.0594 - val_loss: 0.0614 - val_mean_absolute_error: 0.0614 - val_root_mean_squared_error: 0.0861\n",
      "Epoch 2/100\n",
      "\u001B[1m204/204\u001B[0m \u001B[32m━━━━━━━━━━━━━━━━━━━━\u001B[0m\u001B[37m\u001B[0m \u001B[1m1s\u001B[0m 7ms/step - loss: 0.0419 - mean_absolute_error: 0.0419 - root_mean_squared_error: 0.0561 - val_loss: 0.0609 - val_mean_absolute_error: 0.0609 - val_root_mean_squared_error: 0.0835\n",
      "Epoch 3/100\n",
      "\u001B[1m204/204\u001B[0m \u001B[32m━━━━━━━━━━━━━━━━━━━━\u001B[0m\u001B[37m\u001B[0m \u001B[1m1s\u001B[0m 7ms/step - loss: 0.0419 - mean_absolute_error: 0.0419 - root_mean_squared_error: 0.0562 - val_loss: 0.0600 - val_mean_absolute_error: 0.0600 - val_root_mean_squared_error: 0.0823\n",
      "Epoch 4/100\n",
      "\u001B[1m204/204\u001B[0m \u001B[32m━━━━━━━━━━━━━━━━━━━━\u001B[0m\u001B[37m\u001B[0m \u001B[1m1s\u001B[0m 7ms/step - loss: 0.0420 - mean_absolute_error: 0.0420 - root_mean_squared_error: 0.0561 - val_loss: 0.0603 - val_mean_absolute_error: 0.0603 - val_root_mean_squared_error: 0.0846\n",
      "Epoch 5/100\n",
      "\u001B[1m204/204\u001B[0m \u001B[32m━━━━━━━━━━━━━━━━━━━━\u001B[0m\u001B[37m\u001B[0m \u001B[1m1s\u001B[0m 7ms/step - loss: 0.0406 - mean_absolute_error: 0.0406 - root_mean_squared_error: 0.0548 - val_loss: 0.0585 - val_mean_absolute_error: 0.0585 - val_root_mean_squared_error: 0.0810\n",
      "Epoch 6/100\n",
      "\u001B[1m204/204\u001B[0m \u001B[32m━━━━━━━━━━━━━━━━━━━━\u001B[0m\u001B[37m\u001B[0m \u001B[1m1s\u001B[0m 7ms/step - loss: 0.0399 - mean_absolute_error: 0.0399 - root_mean_squared_error: 0.0538 - val_loss: 0.0604 - val_mean_absolute_error: 0.0604 - val_root_mean_squared_error: 0.0842\n",
      "Epoch 7/100\n",
      "\u001B[1m204/204\u001B[0m \u001B[32m━━━━━━━━━━━━━━━━━━━━\u001B[0m\u001B[37m\u001B[0m \u001B[1m1s\u001B[0m 7ms/step - loss: 0.0400 - mean_absolute_error: 0.0400 - root_mean_squared_error: 0.0537 - val_loss: 0.0628 - val_mean_absolute_error: 0.0628 - val_root_mean_squared_error: 0.0873\n"
     ]
    },
    {
     "name": "stderr",
     "output_type": "stream",
     "text": [
      "\u001B[32m2025-05-30 15:23:40.784\u001B[0m | \u001B[32m\u001B[1mSUCCESS \u001B[0m | \u001B[36mepf.pipeline\u001B[0m:\u001B[36mtrain\u001B[0m:\u001B[36m412\u001B[0m - \u001B[32m\u001B[1mSuccessfully trained shifted_lstm_vre_sl. Now saving...\u001B[0m\n",
      "\u001B[32m2025-05-30 15:23:40.784\u001B[0m | \u001B[1mINFO    \u001B[0m | \u001B[36mepf.pipeline\u001B[0m:\u001B[36mtrain\u001B[0m:\u001B[36m417\u001B[0m - \u001B[1mTraining took 00h:15m:02s.\u001B[0m\n",
      "\u001B[32m2025-05-30 15:23:40.816\u001B[0m | \u001B[32m\u001B[1mSUCCESS \u001B[0m | \u001B[36mepf.pipeline\u001B[0m:\u001B[36mtrain\u001B[0m:\u001B[36m442\u001B[0m - \u001B[32m\u001B[1mSuccessfully saved shifted_lstm_vre_sl to C:/Users/valen/PycharmProjects/epf/models/shifted_lstm_vre_sl.pkl\u001B[0m\n",
      "\u001B[32m2025-05-30 15:23:40.816\u001B[0m | \u001B[1mINFO    \u001B[0m | \u001B[36mepf.pipeline\u001B[0m:\u001B[36mevaluate\u001B[0m:\u001B[36m454\u001B[0m - \u001B[1mLoading trained model from C:\\Users\\valen\\PycharmProjects\\epf\\models\\shifted_lstm_vre_sl.pkl.\u001B[0m\n"
     ]
    },
    {
     "name": "stdout",
     "output_type": "stream",
     "text": [
      "\u001B[1m68/68\u001B[0m \u001B[32m━━━━━━━━━━━━━━━━━━━━\u001B[0m\u001B[37m\u001B[0m \u001B[1m0s\u001B[0m 2ms/step - loss: 0.0621 - mean_absolute_error: 0.0621 - root_mean_squared_error: 0.0853\n"
     ]
    },
    {
     "name": "stderr",
     "output_type": "stream",
     "text": [
      "\u001B[32m2025-05-30 15:23:42.051\u001B[0m | \u001B[1mINFO    \u001B[0m | \u001B[36mepf.pipeline\u001B[0m:\u001B[36mevaluate\u001B[0m:\u001B[36m487\u001B[0m - \u001B[1mEvaluation took 00h:00m:01s.\u001B[0m\n"
     ]
    }
   ]
  }
 ],
 "metadata": {
  "kernelspec": {
   "display_name": "Python 3",
   "language": "python",
   "name": "python3"
  },
  "language_info": {
   "codemirror_mode": {
    "name": "ipython",
    "version": 2
   },
   "file_extension": ".py",
   "mimetype": "text/x-python",
   "name": "python",
   "nbconvert_exporter": "python",
   "pygments_lexer": "ipython2",
   "version": "2.7.6"
  }
 },
 "nbformat": 4,
 "nbformat_minor": 5
}
