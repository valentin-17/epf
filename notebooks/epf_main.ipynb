{
 "cells": [
  {
   "metadata": {},
   "cell_type": "markdown",
   "source": "# Electricity Price Forecasting on the German day-ahead market",
   "id": "ed169d1688aaeead"
  },
  {
   "metadata": {},
   "cell_type": "markdown",
   "source": [
    "This notebook is the main interface to the associated EPF library. Various parameters can be adjusted within the library via the Config file. A more detailed description of the individual parameters can be found within the configuration classes. In the “exploratory_analysis” notebook, the raw data sets are analyzed exploratively and the results are displayed visually. Based on these results, features from the data sets were specifically selected for further use in the deep learning pipeline.\n",
    "\n",
    "The forecasting pipeline is built to automatically perform data preprocessing including data cleaning, outlier removal and seasonal decomposition. Within the configuration feature engineering can be toggled on and of for each feature. Forecasting is done with two different models, that can be retrained and saved anytime. The models available are an LSTM and GRU. They all perform multi-step ahead, single shot forecasts. This means by default each forecast contains 24 time steps into the future, that are forecasted together in one computation."
   ],
   "id": "fd7a16d8c5e10c82"
  },
  {
   "cell_type": "code",
   "id": "initial_id",
   "metadata": {
    "collapsed": true,
    "ExecuteTime": {
     "end_time": "2025-05-15T13:23:42.769144Z",
     "start_time": "2025-05-15T13:23:25.625780Z"
    }
   },
   "source": [
    "from epf.pipeline import EpfPipeline\n",
    "import pickle as pkl\n",
    "\n",
    "pipeline = EpfPipeline()"
   ],
   "outputs": [
    {
     "name": "stderr",
     "output_type": "stream",
     "text": [
      "\u001B[32m2025-05-15 15:23:40.840\u001B[0m | \u001B[1mINFO    \u001B[0m | \u001B[36mepf.config\u001B[0m:\u001B[36m<module>\u001B[0m:\u001B[36m19\u001B[0m - \u001B[1mPROJ_ROOT path is: C:\\Users\\valen\\PycharmProjects\\epf\u001B[0m\n",
      "\u001B[32m2025-05-15 15:23:40.841\u001B[0m | \u001B[1mINFO    \u001B[0m | \u001B[36mepf.config\u001B[0m:\u001B[36mcreate_dir\u001B[0m:\u001B[36m15\u001B[0m - \u001B[1mDATA_DIR path is: C:/Users/valen/PycharmProjects/epf/data\u001B[0m\n",
      "\u001B[32m2025-05-15 15:23:40.842\u001B[0m | \u001B[1mINFO    \u001B[0m | \u001B[36mepf.config\u001B[0m:\u001B[36mcreate_dir\u001B[0m:\u001B[36m15\u001B[0m - \u001B[1mRAW_DATA_DIR path is: C:/Users/valen/PycharmProjects/epf/data/raw\u001B[0m\n",
      "\u001B[32m2025-05-15 15:23:40.843\u001B[0m | \u001B[1mINFO    \u001B[0m | \u001B[36mepf.config\u001B[0m:\u001B[36mcreate_dir\u001B[0m:\u001B[36m15\u001B[0m - \u001B[1mINTERIM_DATA_DIR path is: C:/Users/valen/PycharmProjects/epf/data/interim\u001B[0m\n",
      "\u001B[32m2025-05-15 15:23:40.844\u001B[0m | \u001B[1mINFO    \u001B[0m | \u001B[36mepf.config\u001B[0m:\u001B[36mcreate_dir\u001B[0m:\u001B[36m15\u001B[0m - \u001B[1mPROCESSED_DATA_DIR path is: C:/Users/valen/PycharmProjects/epf/data/processed\u001B[0m\n",
      "\u001B[32m2025-05-15 15:23:40.844\u001B[0m | \u001B[1mINFO    \u001B[0m | \u001B[36mepf.config\u001B[0m:\u001B[36mcreate_dir\u001B[0m:\u001B[36m15\u001B[0m - \u001B[1mTRAIN_DATA_DIR path is: C:/Users/valen/PycharmProjects/epf/data/processed/train_data\u001B[0m\n",
      "\u001B[32m2025-05-15 15:23:40.845\u001B[0m | \u001B[1mINFO    \u001B[0m | \u001B[36mepf.config\u001B[0m:\u001B[36mcreate_dir\u001B[0m:\u001B[36m15\u001B[0m - \u001B[1mMODELS_DIR path is: C:/Users/valen/PycharmProjects/epf/models\u001B[0m\n",
      "\u001B[32m2025-05-15 15:23:40.846\u001B[0m | \u001B[1mINFO    \u001B[0m | \u001B[36mepf.config\u001B[0m:\u001B[36mcreate_dir\u001B[0m:\u001B[36m15\u001B[0m - \u001B[1mPREDICTIONS_DIR path is: C:/Users/valen/PycharmProjects/epf/models/predictions\u001B[0m\n",
      "\u001B[32m2025-05-15 15:23:40.847\u001B[0m | \u001B[1mINFO    \u001B[0m | \u001B[36mepf.config\u001B[0m:\u001B[36mcreate_dir\u001B[0m:\u001B[36m15\u001B[0m - \u001B[1mREPORTS_DIR path is: C:/Users/valen/PycharmProjects/epf/reports\u001B[0m\n",
      "\u001B[32m2025-05-15 15:23:40.847\u001B[0m | \u001B[1mINFO    \u001B[0m | \u001B[36mepf.config\u001B[0m:\u001B[36mcreate_dir\u001B[0m:\u001B[36m15\u001B[0m - \u001B[1mFIGURES_DIR path is: C:/Users/valen/PycharmProjects/epf/reports/figures\u001B[0m\n"
     ]
    },
    {
     "name": "stdout",
     "output_type": "stream",
     "text": [
      "Pipeline initialized with:\n",
      "FeatureConfig: \n",
      "Selected features: \n",
      "['DE-LU Prices', 'CH Prices', 'DK1 Prices', 'DK2 Prices', 'FR Prices', 'DE Solar Generation', 'DE Wind Generation Offshore', 'DE Wind Generation Onshore', 'DE Load', 'Month', 'Day of Week', 'Holiday']\n",
      "WINDOW_LENGTH: 24\n",
      "N_SIGMA: 3\n",
      "METHOD: nearest\n",
      "\n",
      "ModelConfig: \n",
      "TRAIN_SPLIT (upper bound): 2023-09-30 22:00:00+00:00\n",
      "VALIDATION_SPLIT (upper bound): 2023-12-31 22:00:00+00:00\n",
      "MAX_EPOCHS: 100\n",
      "OUT_STEPS: 24\n",
      "SEASONALITY_PERIOD: 24\n",
      "INPUT_WIDTH_FACTOR: 1.25\n",
      "MODEL_BUILDER: GRU\n",
      "USE_HIDDEN_LAYERS: True\n",
      "NUM_FEATURES: 12\n",
      "UNIT_MIN_VALUE: 32\n",
      "UNIT_MAX_VALUE: 128\n",
      "UNIT_STEP: 32\n",
      "LR_MIN_VALUE: 0.0001\n",
      "LR_MAX_VALUE: 0.1\n",
      "LR_STEP: 0.001\n",
      "DROPOUT_RATE_MIN_VALUE: 0.2\n",
      "DROPOUT_RATE_MAX_VALUE: 0.7\n",
      "DROPOUT_RATE_STEP: 0.05\n",
      "NUM_LAYERS_MIN: 1\n",
      "NUM_LAYERS_MAX: 3\n",
      "NUM_LAYERS_STEP: 1\n",
      "MAX_TRIALS: 50\n",
      "LABEL_COL: de_prices_hat_rm_seasonal\n",
      "\n",
      "\n"
     ]
    }
   ],
   "execution_count": 1
  },
  {
   "metadata": {
    "jupyter": {
     "is_executing": true
    }
   },
   "cell_type": "code",
   "source": [
    "model_name = 'gru_vre_neighboring_prices'\n",
    "\n",
    "pipeline.train(model_name, overwrite=True)\n",
    "pipeline.evaluate(model_name)"
   ],
   "id": "e8e0684d3f8996a6",
   "execution_count": null,
   "outputs": []
  },
  {
   "metadata": {},
   "cell_type": "code",
   "source": [
    "import pickle as pkl\n",
    "\n",
    "with open(\"../models/gru_all_features.pkl\", \"rb\") as f:\n",
    "    model_obj = pkl.load(f)\n",
    "\n",
    "window = model_obj['window']\n",
    "model = model_obj['best_model']\n",
    "model_name = model_obj['model_name']\n",
    "test_df = model_obj['test_df']\n",
    "plot_col = 'de_prices_hat_rm_seasonal'\n",
    "\n",
    "window.plot(model, plot_col=plot_col)"
   ],
   "id": "7216007e4b4b979b",
   "outputs": [],
   "execution_count": null
  },
  {
   "metadata": {},
   "cell_type": "code",
   "source": [
    "hp = model_obj['best_hps']\n",
    "hp.values"
   ],
   "id": "e829028fcb75a3c3",
   "outputs": [],
   "execution_count": null
  },
  {
   "metadata": {},
   "cell_type": "code",
   "source": "model.summary()",
   "id": "c4b2b5ecb0ec26ee",
   "outputs": [],
   "execution_count": null
  },
  {
   "metadata": {},
   "cell_type": "code",
   "source": "",
   "id": "5759ce1f7f650a5a",
   "outputs": [],
   "execution_count": null
  }
 ],
 "metadata": {
  "kernelspec": {
   "display_name": "Python 3",
   "language": "python",
   "name": "python3"
  },
  "language_info": {
   "codemirror_mode": {
    "name": "ipython",
    "version": 2
   },
   "file_extension": ".py",
   "mimetype": "text/x-python",
   "name": "python",
   "nbconvert_exporter": "python",
   "pygments_lexer": "ipython2",
   "version": "2.7.6"
  }
 },
 "nbformat": 4,
 "nbformat_minor": 5
}
