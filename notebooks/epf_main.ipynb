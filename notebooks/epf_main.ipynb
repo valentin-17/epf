{
 "cells": [
  {
   "metadata": {},
   "cell_type": "markdown",
   "source": "# Electricity Price Forecasting on the German day-ahead market",
   "id": "ed169d1688aaeead"
  },
  {
   "metadata": {},
   "cell_type": "markdown",
   "source": [
    "This notebook is the main interface to the associated EPF library. Various parameters can be adjusted within the library via the Config file. A more detailed description of the individual parameters can be found within the configuration classes. In the “exploratory_analysis” notebook, the raw data sets are analyzed exploratively and the results are displayed visually. Based on these results, features from the data sets were specifically selected for further use in the deep learning pipeline.\n",
    "\n",
    "The forecasting pipeline is built to automatically perform data preprocessing including data cleaning, outlier removal and seasonal decomposition. Within the configuration feature engineering can be toggled on and of for each feature. Forecasting is done with two different models, that can be retrained and saved anytime. The models available are an LSTM and GRU. They all perform multi-step ahead, single shot forecasts. This means by default each forecast contains 24 time steps into the future, that are forecasted together in one computation."
   ],
   "id": "fd7a16d8c5e10c82"
  },
  {
   "cell_type": "code",
   "id": "initial_id",
   "metadata": {
    "collapsed": true,
    "ExecuteTime": {
     "end_time": "2025-05-16T14:02:56.535667Z",
     "start_time": "2025-05-16T14:02:54.016516Z"
    }
   },
   "source": [
    "from epf.pipeline import EpfPipeline\n",
    "import pickle as pkl\n",
    "\n",
    "pipeline = EpfPipeline()"
   ],
   "outputs": [
    {
     "name": "stderr",
     "output_type": "stream",
     "text": [
      "\u001B[32m2025-05-16 16:02:56.190\u001B[0m | \u001B[1mINFO    \u001B[0m | \u001B[36mepf.config\u001B[0m:\u001B[36m<module>\u001B[0m:\u001B[36m19\u001B[0m - \u001B[1mPROJ_ROOT path is: C:\\Users\\valen\\PycharmProjects\\epf\u001B[0m\n",
      "\u001B[32m2025-05-16 16:02:56.190\u001B[0m | \u001B[1mINFO    \u001B[0m | \u001B[36mepf.config\u001B[0m:\u001B[36mcreate_dir\u001B[0m:\u001B[36m15\u001B[0m - \u001B[1mDATA_DIR path is: C:/Users/valen/PycharmProjects/epf/data\u001B[0m\n",
      "\u001B[32m2025-05-16 16:02:56.190\u001B[0m | \u001B[1mINFO    \u001B[0m | \u001B[36mepf.config\u001B[0m:\u001B[36mcreate_dir\u001B[0m:\u001B[36m15\u001B[0m - \u001B[1mRAW_DATA_DIR path is: C:/Users/valen/PycharmProjects/epf/data/raw\u001B[0m\n",
      "\u001B[32m2025-05-16 16:02:56.190\u001B[0m | \u001B[1mINFO    \u001B[0m | \u001B[36mepf.config\u001B[0m:\u001B[36mcreate_dir\u001B[0m:\u001B[36m15\u001B[0m - \u001B[1mINTERIM_DATA_DIR path is: C:/Users/valen/PycharmProjects/epf/data/interim\u001B[0m\n",
      "\u001B[32m2025-05-16 16:02:56.190\u001B[0m | \u001B[1mINFO    \u001B[0m | \u001B[36mepf.config\u001B[0m:\u001B[36mcreate_dir\u001B[0m:\u001B[36m15\u001B[0m - \u001B[1mPROCESSED_DATA_DIR path is: C:/Users/valen/PycharmProjects/epf/data/processed\u001B[0m\n",
      "\u001B[32m2025-05-16 16:02:56.190\u001B[0m | \u001B[1mINFO    \u001B[0m | \u001B[36mepf.config\u001B[0m:\u001B[36mcreate_dir\u001B[0m:\u001B[36m15\u001B[0m - \u001B[1mTRAIN_DATA_DIR path is: C:/Users/valen/PycharmProjects/epf/data/processed/train_data\u001B[0m\n",
      "\u001B[32m2025-05-16 16:02:56.190\u001B[0m | \u001B[1mINFO    \u001B[0m | \u001B[36mepf.config\u001B[0m:\u001B[36mcreate_dir\u001B[0m:\u001B[36m15\u001B[0m - \u001B[1mMODELS_DIR path is: C:/Users/valen/PycharmProjects/epf/models\u001B[0m\n",
      "\u001B[32m2025-05-16 16:02:56.190\u001B[0m | \u001B[1mINFO    \u001B[0m | \u001B[36mepf.config\u001B[0m:\u001B[36mcreate_dir\u001B[0m:\u001B[36m15\u001B[0m - \u001B[1mPREDICTIONS_DIR path is: C:/Users/valen/PycharmProjects/epf/models/predictions\u001B[0m\n",
      "\u001B[32m2025-05-16 16:02:56.190\u001B[0m | \u001B[1mINFO    \u001B[0m | \u001B[36mepf.config\u001B[0m:\u001B[36mcreate_dir\u001B[0m:\u001B[36m15\u001B[0m - \u001B[1mREPORTS_DIR path is: C:/Users/valen/PycharmProjects/epf/reports\u001B[0m\n",
      "\u001B[32m2025-05-16 16:02:56.190\u001B[0m | \u001B[1mINFO    \u001B[0m | \u001B[36mepf.config\u001B[0m:\u001B[36mcreate_dir\u001B[0m:\u001B[36m15\u001B[0m - \u001B[1mFIGURES_DIR path is: C:/Users/valen/PycharmProjects/epf/reports/figures\u001B[0m\n"
     ]
    },
    {
     "name": "stdout",
     "output_type": "stream",
     "text": [
      "Pipeline initialized with:\n",
      "FeatureConfig: \n",
      "Selected features: \n",
      "['DE-LU Prices', 'CH Prices', 'DK1 Prices', 'DK2 Prices', 'FR Prices', 'DE-LU Prices 7-Day Lag', 'DE-LU Prices 24-Hour Lag', 'DE-LU Prices 12-Hour Lag', 'DE-LU Prices 1-Hour Lag', 'DE Solar Generation', 'DE Wind Generation Offshore', 'DE Wind Generation Onshore', 'DE Gas Generation', 'DE Lignite Generation', 'DE Hard Coal Generation', 'DE Load', 'Month', 'Day of Week', 'Holiday']\n",
      "WINDOW_LENGTH: 24\n",
      "N_SIGMA: 3\n",
      "METHOD: nearest\n",
      "\n",
      "ModelConfig: \n",
      "TRAIN_SPLIT (upper bound): 2023-09-30 22:00:00+00:00\n",
      "VALIDATION_SPLIT (upper bound): 2023-12-31 22:00:00+00:00\n",
      "MAX_EPOCHS: 100\n",
      "OUT_STEPS: 24\n",
      "SEASONALITY_PERIOD: 24\n",
      "INPUT_WIDTH_FACTOR: 1.25\n",
      "MODEL_BUILDER: LSTM\n",
      "USE_HIDDEN_LAYERS: False\n",
      "NUM_FEATURES: 19\n",
      "UNIT_MIN_VALUE: 32\n",
      "UNIT_MAX_VALUE: 128\n",
      "UNIT_STEP: 32\n",
      "LR_MIN_VALUE: 0.0001\n",
      "LR_MAX_VALUE: 0.1\n",
      "LR_STEP: 0.001\n",
      "DROPOUT_RATE_MIN_VALUE: 0.2\n",
      "DROPOUT_RATE_MAX_VALUE: 0.7\n",
      "DROPOUT_RATE_STEP: 0.05\n",
      "NUM_LAYERS_MIN: 1\n",
      "NUM_LAYERS_MAX: 3\n",
      "NUM_LAYERS_STEP: 1\n",
      "MAX_TRIALS: 50\n",
      "LABEL_COL: de_prices_hat_rm_seasonal\n",
      "\n",
      "\n"
     ]
    }
   ],
   "execution_count": 1
  },
  {
   "metadata": {},
   "cell_type": "code",
   "source": [
    "model_name = 'lstm_all_features_sl'\n",
    "\n",
    "pipeline.train(model_name, overwrite=True)\n",
    "pipeline.evaluate(model_name)"
   ],
   "id": "e8e0684d3f8996a6",
   "execution_count": 2,
   "outputs": [
    {
     "name": "stdout",
     "output_type": "stream",
     "text": [
      "Trial 50 Complete [00h 00m 11s]\n",
      "mean_absolute_error: 0.0545320101082325\n",
      "\n",
      "Best mean_absolute_error So Far: 0.0514528751373291\n",
      "Total elapsed time: 00h 10m 49s\n"
     ]
    },
    {
     "name": "stderr",
     "output_type": "stream",
     "text": [
      "C:\\Users\\valen\\PycharmProjects\\epf\\.venv\\Lib\\site-packages\\keras\\src\\saving\\saving_lib.py:757: UserWarning: Skipping variable loading for optimizer 'adam', because it has 2 variables whereas the saved optimizer has 12 variables. \n",
      "  saveable.load_own_variables(weights_store.get(inner_path))\n",
      "\u001B[32m2025-05-16 16:16:47.623\u001B[0m | \u001B[1mINFO    \u001B[0m | \u001B[36mepf.pipeline\u001B[0m:\u001B[36m_tune_hyperparameters\u001B[0m:\u001B[36m319\u001B[0m - \u001B[1mHyperparameter tuning took 00h:10m:50s.\u001B[0m\n",
      "\u001B[32m2025-05-16 16:16:47.623\u001B[0m | \u001B[32m\u001B[1mSUCCESS \u001B[0m | \u001B[36mepf.pipeline\u001B[0m:\u001B[36mtrain\u001B[0m:\u001B[36m392\u001B[0m - \u001B[32m\u001B[1mSuccessfully tuned hyperparameters for lstm_all_features_sl\u001B[0m\n",
      "\u001B[32m2025-05-16 16:16:47.623\u001B[0m | \u001B[1mINFO    \u001B[0m | \u001B[36mepf.pipeline\u001B[0m:\u001B[36mtrain\u001B[0m:\u001B[36m399\u001B[0m - \u001B[1mTraining lstm_all_features_sl on the following Features:['DE-LU Prices', 'CH Prices', 'DK1 Prices', 'DK2 Prices', 'FR Prices', 'DE-LU Prices 7-Day Lag', 'DE-LU Prices 24-Hour Lag', 'DE-LU Prices 12-Hour Lag', 'DE-LU Prices 1-Hour Lag', 'DE Solar Generation', 'DE Wind Generation Offshore', 'DE Wind Generation Onshore', 'DE Gas Generation', 'DE Lignite Generation', 'DE Hard Coal Generation', 'DE Load', 'Month', 'Day of Week', 'Holiday'].\u001B[0m\n"
     ]
    },
    {
     "name": "stdout",
     "output_type": "stream",
     "text": [
      "Epoch 1/100\n",
      "\u001B[1m204/204\u001B[0m \u001B[32m━━━━━━━━━━━━━━━━━━━━\u001B[0m\u001B[37m\u001B[0m \u001B[1m3s\u001B[0m 8ms/step - loss: 0.0520 - mean_absolute_error: 0.0520 - root_mean_squared_error: 0.0712 - val_loss: 0.0741 - val_mean_absolute_error: 0.0741 - val_root_mean_squared_error: 0.1032\n",
      "Epoch 2/100\n",
      "\u001B[1m204/204\u001B[0m \u001B[32m━━━━━━━━━━━━━━━━━━━━\u001B[0m\u001B[37m\u001B[0m \u001B[1m1s\u001B[0m 7ms/step - loss: 0.0497 - mean_absolute_error: 0.0497 - root_mean_squared_error: 0.0686 - val_loss: 0.0751 - val_mean_absolute_error: 0.0751 - val_root_mean_squared_error: 0.1042\n",
      "Epoch 3/100\n",
      "\u001B[1m204/204\u001B[0m \u001B[32m━━━━━━━━━━━━━━━━━━━━\u001B[0m\u001B[37m\u001B[0m \u001B[1m1s\u001B[0m 7ms/step - loss: 0.0487 - mean_absolute_error: 0.0487 - root_mean_squared_error: 0.0672 - val_loss: 0.0752 - val_mean_absolute_error: 0.0752 - val_root_mean_squared_error: 0.1050\n"
     ]
    },
    {
     "name": "stderr",
     "output_type": "stream",
     "text": [
      "\u001B[32m2025-05-16 16:16:53.584\u001B[0m | \u001B[32m\u001B[1mSUCCESS \u001B[0m | \u001B[36mepf.pipeline\u001B[0m:\u001B[36mtrain\u001B[0m:\u001B[36m406\u001B[0m - \u001B[32m\u001B[1mSuccessfully trained lstm_all_features_sl. Now saving...\u001B[0m\n",
      "\u001B[32m2025-05-16 16:16:53.584\u001B[0m | \u001B[1mINFO    \u001B[0m | \u001B[36mepf.pipeline\u001B[0m:\u001B[36mtrain\u001B[0m:\u001B[36m411\u001B[0m - \u001B[1mTraining took 00h:13m:50s.\u001B[0m\n",
      "\u001B[32m2025-05-16 16:16:53.615\u001B[0m | \u001B[32m\u001B[1mSUCCESS \u001B[0m | \u001B[36mepf.pipeline\u001B[0m:\u001B[36mtrain\u001B[0m:\u001B[36m436\u001B[0m - \u001B[32m\u001B[1mSuccessfully saved lstm_all_features_sl to C:/Users/valen/PycharmProjects/epf/models/lstm_all_features_sl.pkl\u001B[0m\n",
      "\u001B[32m2025-05-16 16:16:53.615\u001B[0m | \u001B[1mINFO    \u001B[0m | \u001B[36mepf.pipeline\u001B[0m:\u001B[36mevaluate\u001B[0m:\u001B[36m448\u001B[0m - \u001B[1mLoading trained model from C:\\Users\\valen\\PycharmProjects\\epf\\models\\lstm_all_features_sl.pkl.\u001B[0m\n"
     ]
    },
    {
     "name": "stdout",
     "output_type": "stream",
     "text": [
      "\u001B[1m68/68\u001B[0m \u001B[32m━━━━━━━━━━━━━━━━━━━━\u001B[0m\u001B[37m\u001B[0m \u001B[1m0s\u001B[0m 2ms/step - loss: 0.0735 - mean_absolute_error: 0.0735 - root_mean_squared_error: 0.1028\n"
     ]
    },
    {
     "name": "stderr",
     "output_type": "stream",
     "text": [
      "\u001B[32m2025-05-16 16:16:54.785\u001B[0m | \u001B[1mINFO    \u001B[0m | \u001B[36mepf.pipeline\u001B[0m:\u001B[36mevaluate\u001B[0m:\u001B[36m481\u001B[0m - \u001B[1mEvaluation took 00h:00m:01s.\u001B[0m\n"
     ]
    }
   ]
  },
  {
   "metadata": {},
   "cell_type": "code",
   "source": [
    "import pickle as pkl\n",
    "\n",
    "with open(\"../models/lstm_vre_lags.pkl\", \"rb\") as f:\n",
    "    model_obj = pkl.load(f)\n",
    "\n",
    "window = model_obj['window']\n",
    "model = model_obj['best_model']\n",
    "model_name = model_obj['model_name']\n",
    "test_df = model_obj['test_df']\n",
    "plot_col = 'de_prices_hat_rm_seasonal'\n",
    "\n",
    "window.plot(model, plot_col=plot_col)"
   ],
   "id": "7216007e4b4b979b",
   "outputs": [],
   "execution_count": null
  },
  {
   "metadata": {},
   "cell_type": "code",
   "source": [
    "hp = model_obj['best_hps']\n",
    "hp.values"
   ],
   "id": "e829028fcb75a3c3",
   "outputs": [],
   "execution_count": null
  },
  {
   "metadata": {},
   "cell_type": "code",
   "source": "model.summary()",
   "id": "c4b2b5ecb0ec26ee",
   "outputs": [],
   "execution_count": null
  },
  {
   "metadata": {},
   "cell_type": "code",
   "source": "",
   "id": "7baa83a08ea4436c",
   "outputs": [],
   "execution_count": null
  }
 ],
 "metadata": {
  "kernelspec": {
   "display_name": "Python 3",
   "language": "python",
   "name": "python3"
  },
  "language_info": {
   "codemirror_mode": {
    "name": "ipython",
    "version": 2
   },
   "file_extension": ".py",
   "mimetype": "text/x-python",
   "name": "python",
   "nbconvert_exporter": "python",
   "pygments_lexer": "ipython2",
   "version": "2.7.6"
  }
 },
 "nbformat": 4,
 "nbformat_minor": 5
}
