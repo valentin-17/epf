{
 "cells": [
  {
   "metadata": {},
   "cell_type": "markdown",
   "source": "# Electricity Price Forecasting on the German day-ahead market",
   "id": "ed169d1688aaeead"
  },
  {
   "metadata": {},
   "cell_type": "markdown",
   "source": [
    "This notebook is the main interface to the associated EPF library. Various parameters can be adjusted within the library via the Config file. A more detailed description of the individual parameters can be found within the configuration classes. In the “exploratory_analysis” notebook, the raw data sets are analyzed exploratively and the results are displayed visually. Based on these results, features from the data sets were specifically selected for further use in the deep learning pipeline.\n",
    "\n",
    "The forecasting pipeline is built to automatically perform data preprocessing including data cleaning, outlier removal and seasonal decomposition. Within the configuration feature engineering can be toggled on and of for each feature. Forecasting is done with three different models, that can be retrained and saved anytime. The models available are an LSTM, GRU and CNN. They all perform multi-step ahead, single shot forecasts. This means by default each forecast contains 24 time steps into the future, that are forecasted together in one computation."
   ],
   "id": "fd7a16d8c5e10c82"
  },
  {
   "cell_type": "code",
   "id": "initial_id",
   "metadata": {
    "collapsed": true,
    "ExecuteTime": {
     "end_time": "2025-05-10T21:57:14.562338Z",
     "start_time": "2025-05-10T21:57:10.871484Z"
    }
   },
   "source": [
    "from datetime import datetime\n",
    "\n",
    "from epf.pipeline import EpfPipeline\n",
    "\n",
    "pipeline = EpfPipeline()"
   ],
   "outputs": [
    {
     "name": "stderr",
     "output_type": "stream",
     "text": [
      "\u001B[32m2025-05-10 23:57:14.039\u001B[0m | \u001B[1mINFO    \u001B[0m | \u001B[36mepf.config\u001B[0m:\u001B[36m<module>\u001B[0m:\u001B[36m19\u001B[0m - \u001B[1mPROJ_ROOT path is: C:\\Users\\valen\\PycharmProjects\\epf\u001B[0m\n",
      "\u001B[32m2025-05-10 23:57:14.054\u001B[0m | \u001B[1mINFO    \u001B[0m | \u001B[36mepf.config\u001B[0m:\u001B[36mcreate_dir\u001B[0m:\u001B[36m15\u001B[0m - \u001B[1mDATA_DIR path is: C:/Users/valen/PycharmProjects/epf/data\u001B[0m\n",
      "\u001B[32m2025-05-10 23:57:14.054\u001B[0m | \u001B[1mINFO    \u001B[0m | \u001B[36mepf.config\u001B[0m:\u001B[36mcreate_dir\u001B[0m:\u001B[36m15\u001B[0m - \u001B[1mRAW_DATA_DIR path is: C:/Users/valen/PycharmProjects/epf/data/raw\u001B[0m\n",
      "\u001B[32m2025-05-10 23:57:14.054\u001B[0m | \u001B[1mINFO    \u001B[0m | \u001B[36mepf.config\u001B[0m:\u001B[36mcreate_dir\u001B[0m:\u001B[36m15\u001B[0m - \u001B[1mINTERIM_DATA_DIR path is: C:/Users/valen/PycharmProjects/epf/data/interim\u001B[0m\n",
      "\u001B[32m2025-05-10 23:57:14.054\u001B[0m | \u001B[1mINFO    \u001B[0m | \u001B[36mepf.config\u001B[0m:\u001B[36mcreate_dir\u001B[0m:\u001B[36m15\u001B[0m - \u001B[1mPROCESSED_DATA_DIR path is: C:/Users/valen/PycharmProjects/epf/data/processed\u001B[0m\n",
      "\u001B[32m2025-05-10 23:57:14.054\u001B[0m | \u001B[1mINFO    \u001B[0m | \u001B[36mepf.config\u001B[0m:\u001B[36mcreate_dir\u001B[0m:\u001B[36m15\u001B[0m - \u001B[1mTRAIN_DATA_DIR path is: C:/Users/valen/PycharmProjects/epf/data/processed/train_data\u001B[0m\n",
      "\u001B[32m2025-05-10 23:57:14.054\u001B[0m | \u001B[1mINFO    \u001B[0m | \u001B[36mepf.config\u001B[0m:\u001B[36mcreate_dir\u001B[0m:\u001B[36m15\u001B[0m - \u001B[1mMODELS_DIR path is: C:/Users/valen/PycharmProjects/epf/models\u001B[0m\n",
      "\u001B[32m2025-05-10 23:57:14.054\u001B[0m | \u001B[1mINFO    \u001B[0m | \u001B[36mepf.config\u001B[0m:\u001B[36mcreate_dir\u001B[0m:\u001B[36m15\u001B[0m - \u001B[1mPREDICTIONS_DIR path is: C:/Users/valen/PycharmProjects/epf/models/predictions\u001B[0m\n",
      "\u001B[32m2025-05-10 23:57:14.054\u001B[0m | \u001B[1mINFO    \u001B[0m | \u001B[36mepf.config\u001B[0m:\u001B[36mcreate_dir\u001B[0m:\u001B[36m15\u001B[0m - \u001B[1mREPORTS_DIR path is: C:/Users/valen/PycharmProjects/epf/reports\u001B[0m\n",
      "\u001B[32m2025-05-10 23:57:14.054\u001B[0m | \u001B[1mINFO    \u001B[0m | \u001B[36mepf.config\u001B[0m:\u001B[36mcreate_dir\u001B[0m:\u001B[36m15\u001B[0m - \u001B[1mFIGURES_DIR path is: C:/Users/valen/PycharmProjects/epf/reports/figures\u001B[0m\n"
     ]
    },
    {
     "name": "stdout",
     "output_type": "stream",
     "text": [
      "Pipeline initialized with:\n",
      "FeatureConfig: \n",
      "WINDOW_LENGTH: 24\n",
      "N_SIGMA: 3\n",
      "METHOD: nearest\n",
      "\n",
      "ModelConfig: \n",
      "TRAIN_SPLIT: 2023-09-30 22:00:00+00:00\n",
      "VALIDATION_SPLIT: 2023-12-31 22:00:00+00:00\n",
      "MAX_EPOCHS: 20\n",
      "OUT_STEPS: 24\n",
      "SEASONALITY_PERIOD: 168\n",
      "INPUT_WIDTH_FACTOR: 1.25\n",
      "MODEL_BUILDER: LSTM\n",
      "NUM_FEATURES: 22\n",
      "UNIT_MIN_VALUE: 32\n",
      "UNIT_MAX_VALUE: 128\n",
      "UNIT_STEP: 32\n",
      "LR_MIN_VALUE: 0.001\n",
      "LR_MAX_VALUE: 0.1\n",
      "LR_STEP: 0.05\n",
      "DROPOUT_RATE_MIN_VALUE: 0.2\n",
      "DROPOUT_RATE_MAX_VALUE: 0.7\n",
      "DROPOUT_RATE_STEP: 0.1\n",
      "USE_HIDDEN_LAYERS: True\n",
      "NUM_LAYERS_MIN: 1\n",
      "NUM_LAYERS_MAX: 3\n",
      "NUM_LAYERS_STEP: 1\n",
      "MAX_TRIALS: 50\n",
      "LABEL_COL: de_prices_hat_rm_seasonal\n",
      "\n",
      "\n"
     ]
    }
   ],
   "execution_count": 1
  },
  {
   "metadata": {},
   "cell_type": "code",
   "source": "pipeline.train('test', overwrite=True, prep_data=False, use_tuned_hyperparams=False)",
   "id": "e8e0684d3f8996a6",
   "execution_count": null,
   "outputs": [
    {
     "name": "stdout",
     "output_type": "stream",
     "text": [
      "Trial 1 Complete [00h 01m 40s]\n",
      "mean_absolute_error: 0.5627419352531433\n",
      "\n",
      "Best mean_absolute_error So Far: 0.5627419352531433\n",
      "Total elapsed time: 00h 01m 40s\n",
      "\n",
      "Search: Running Trial #2\n",
      "\n",
      "Value             |Best Value So Far |Hyperparameter\n",
      "0.001             |0.051             |learning_rate\n",
      "3                 |2                 |num_layers\n",
      "32                |96                |units\n",
      "0.4               |0.2               |dropout\n",
      "64                |64                |units_0\n",
      "0.6               |0.2               |dropout_0\n",
      "96                |32                |units_1\n",
      "0.4               |0.2               |dropout_1\n",
      "\n",
      "Epoch 1/20\n",
      "\u001B[1m198/198\u001B[0m \u001B[32m━━━━━━━━━━━━━━━━━━━━\u001B[0m\u001B[37m\u001B[0m \u001B[1m36s\u001B[0m 160ms/step - loss: 0.6086 - mean_absolute_error: 0.6086 - mean_absolute_percentage_error: 262.0644 - root_mean_squared_error: 0.8427 - val_loss: 0.7742 - val_mean_absolute_error: 0.7742 - val_mean_absolute_percentage_error: 200.4095 - val_root_mean_squared_error: 1.0436\n",
      "Epoch 2/20\n",
      "\u001B[1m198/198\u001B[0m \u001B[32m━━━━━━━━━━━━━━━━━━━━\u001B[0m\u001B[37m\u001B[0m \u001B[1m31s\u001B[0m 159ms/step - loss: 0.4064 - mean_absolute_error: 0.4064 - mean_absolute_percentage_error: 290.9183 - root_mean_squared_error: 0.5657 - val_loss: 0.7977 - val_mean_absolute_error: 0.7977 - val_mean_absolute_percentage_error: 208.9988 - val_root_mean_squared_error: 1.0793\n",
      "Epoch 3/20\n",
      "\u001B[1m195/198\u001B[0m \u001B[32m━━━━━━━━━━━━━━━━━━━\u001B[0m\u001B[37m━\u001B[0m \u001B[1m0s\u001B[0m 144ms/step - loss: 0.3594 - mean_absolute_error: 0.3594 - mean_absolute_percentage_error: 257.0279 - root_mean_squared_error: 0.4993"
     ]
    }
   ]
  },
  {
   "metadata": {},
   "cell_type": "code",
   "source": "pipeline.evaluate('lstm_all_features_hl0_drY')",
   "id": "2ab275cbcc5e5d52",
   "outputs": [],
   "execution_count": null
  },
  {
   "metadata": {},
   "cell_type": "code",
   "source": [
    "import pickle as pkl\n",
    "\n",
    "with open(\"../data/processed/performance.pkl\", \"rb\") as f:\n",
    "    performance = pkl.load(f)\n",
    "\n",
    "with open(\"../data/processed/val_performance.pkl\", \"rb\") as f:\n",
    "    val_performance = pkl.load(f)"
   ],
   "id": "6ab9a115d2815b3f",
   "outputs": [],
   "execution_count": null
  },
  {
   "metadata": {},
   "cell_type": "code",
   "source": [
    "from matplotlib import pyplot as plt\n",
    "import numpy as np\n",
    "\n",
    "x = np.arange(len(performance))\n",
    "width = 0.3\n",
    "\n",
    "metric_name = 'mean_absolute_error'\n",
    "val_mae = [v[metric_name] for v in val_performance.values()]\n",
    "test_mae = [v[metric_name] for v in performance.values()]\n",
    "\n",
    "plt.bar(x - 0.17, val_mae, width, label='Validation')\n",
    "plt.bar(x + 0.17, test_mae, width, label='Test')\n",
    "plt.xticks(ticks=x, labels=performance.keys(),\n",
    "           rotation=45)\n",
    "plt.ylabel(f'MAE (average over all times and outputs) normed')\n",
    "_ = plt.legend()"
   ],
   "id": "aa0d933663352628",
   "outputs": [],
   "execution_count": null
  },
  {
   "metadata": {},
   "cell_type": "code",
   "source": [
    "import pickle as pkl\n",
    "\n",
    "with open(\"../models/lstm_all_features.pkl\", \"rb\") as f:\n",
    "    model_obj = pkl.load(f)\n",
    "\n",
    "window = model_obj['window']\n",
    "model = model_obj['best_model']\n",
    "window.plot(model)"
   ],
   "id": "7216007e4b4b979b",
   "outputs": [],
   "execution_count": null
  },
  {
   "metadata": {},
   "cell_type": "code",
   "source": [
    "from epf.config import PREDICTIONS_DIR, MODELS_DIR\n",
    "\n",
    "model_path = MODELS_DIR / \"lstm_all_features.keras\"\n",
    "predictions_dir = PREDICTIONS_DIR"
   ],
   "id": "38311cf0f18734db",
   "outputs": [],
   "execution_count": null
  },
  {
   "metadata": {},
   "cell_type": "code",
   "source": "pipeline.predict(data=window.test, model_path=model_path, predictions_dir=predictions_dir)",
   "id": "42b995d29cf55adc",
   "outputs": [],
   "execution_count": null
  },
  {
   "metadata": {},
   "cell_type": "code",
   "source": "",
   "id": "d5fe262026b4d5b0",
   "outputs": [],
   "execution_count": null
  }
 ],
 "metadata": {
  "kernelspec": {
   "display_name": "Python 3",
   "language": "python",
   "name": "python3"
  },
  "language_info": {
   "codemirror_mode": {
    "name": "ipython",
    "version": 2
   },
   "file_extension": ".py",
   "mimetype": "text/x-python",
   "name": "python",
   "nbconvert_exporter": "python",
   "pygments_lexer": "ipython2",
   "version": "2.7.6"
  }
 },
 "nbformat": 4,
 "nbformat_minor": 5
}
