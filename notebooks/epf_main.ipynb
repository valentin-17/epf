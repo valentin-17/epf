{
 "cells": [
  {
   "metadata": {},
   "cell_type": "markdown",
   "source": "# Electricity Price Forecasting on the German day-ahead market",
   "id": "ed169d1688aaeead"
  },
  {
   "metadata": {},
   "cell_type": "markdown",
   "source": [
    "This notebook is the main interface to the associated EPF library. Various parameters can be adjusted within the library via the Config file. A more detailed description of the individual parameters can be found within the configuration classes. In the “exploratory_analysis” notebook, the raw data sets are analyzed exploratively and the results are displayed visually. Based on these results, features from the data sets were specifically selected for further use in the deep learning pipeline.\n",
    "\n",
    "The forecasting pipeline is built to automatically perform data preprocessing including data cleaning, outlier removal and seasonal decomposition. Within the configuration feature engineering can be toggled on and of for each feature. Forecasting is done with three different models, that can be retrained and saved anytime. The models available are an LSTM, GRU and CNN. They all perform multi-step ahead, single shot forecasts. This means by default each forecast contains 24 time steps into the future, that are forecasted together in one computation."
   ],
   "id": "fd7a16d8c5e10c82"
  },
  {
   "cell_type": "code",
   "id": "initial_id",
   "metadata": {
    "collapsed": true,
    "ExecuteTime": {
     "end_time": "2025-04-28T15:08:37.035429Z",
     "start_time": "2025-04-28T15:08:34.223921Z"
    }
   },
   "source": [
    "from epf.pipeline import EpfPipeline\n",
    "\n",
    "pipeline = EpfPipeline()"
   ],
   "outputs": [
    {
     "name": "stderr",
     "output_type": "stream",
     "text": [
      "\u001B[32m2025-04-28 17:08:36.609\u001B[0m | \u001B[1mINFO    \u001B[0m | \u001B[36mepf.config\u001B[0m:\u001B[36m<module>\u001B[0m:\u001B[36m18\u001B[0m - \u001B[1mPROJ_ROOT path is: C:\\Users\\valen\\PycharmProjects\\epf\u001B[0m\n",
      "\u001B[32m2025-04-28 17:08:36.611\u001B[0m | \u001B[1mINFO    \u001B[0m | \u001B[36mepf.config\u001B[0m:\u001B[36mcreate_dir\u001B[0m:\u001B[36m14\u001B[0m - \u001B[1mDATA_DIR path is: C:\\Users\\valen\\PycharmProjects\\epf\\data\u001B[0m\n",
      "\u001B[32m2025-04-28 17:08:36.612\u001B[0m | \u001B[1mINFO    \u001B[0m | \u001B[36mepf.config\u001B[0m:\u001B[36mcreate_dir\u001B[0m:\u001B[36m14\u001B[0m - \u001B[1mRAW_DATA_DIR path is: C:\\Users\\valen\\PycharmProjects\\epf\\data\\raw\u001B[0m\n",
      "\u001B[32m2025-04-28 17:08:36.612\u001B[0m | \u001B[1mINFO    \u001B[0m | \u001B[36mepf.config\u001B[0m:\u001B[36mcreate_dir\u001B[0m:\u001B[36m14\u001B[0m - \u001B[1mINTERIM_DATA_DIR path is: C:\\Users\\valen\\PycharmProjects\\epf\\data\\interim\u001B[0m\n",
      "\u001B[32m2025-04-28 17:08:36.612\u001B[0m | \u001B[1mINFO    \u001B[0m | \u001B[36mepf.config\u001B[0m:\u001B[36mcreate_dir\u001B[0m:\u001B[36m14\u001B[0m - \u001B[1mPROCESSED_DATA_DIR path is: C:\\Users\\valen\\PycharmProjects\\epf\\data\\processed\u001B[0m\n",
      "\u001B[32m2025-04-28 17:08:36.613\u001B[0m | \u001B[1mINFO    \u001B[0m | \u001B[36mepf.config\u001B[0m:\u001B[36mcreate_dir\u001B[0m:\u001B[36m14\u001B[0m - \u001B[1mTRAIN_DATA_DIR path is: C:\\Users\\valen\\PycharmProjects\\epf\\data\\processed\\train_data\u001B[0m\n",
      "\u001B[32m2025-04-28 17:08:36.613\u001B[0m | \u001B[1mINFO    \u001B[0m | \u001B[36mepf.config\u001B[0m:\u001B[36mcreate_dir\u001B[0m:\u001B[36m14\u001B[0m - \u001B[1mMODELS_DIR path is: C:\\Users\\valen\\PycharmProjects\\epf\\models\u001B[0m\n",
      "\u001B[32m2025-04-28 17:08:36.614\u001B[0m | \u001B[1mINFO    \u001B[0m | \u001B[36mepf.config\u001B[0m:\u001B[36mcreate_dir\u001B[0m:\u001B[36m14\u001B[0m - \u001B[1mPREDICTIONS_DIR path is: C:\\Users\\valen\\PycharmProjects\\epf\\models\\predictions\u001B[0m\n",
      "\u001B[32m2025-04-28 17:08:36.614\u001B[0m | \u001B[1mINFO    \u001B[0m | \u001B[36mepf.config\u001B[0m:\u001B[36mcreate_dir\u001B[0m:\u001B[36m14\u001B[0m - \u001B[1mREPORTS_DIR path is: C:\\Users\\valen\\PycharmProjects\\epf\\reports\u001B[0m\n",
      "\u001B[32m2025-04-28 17:08:36.615\u001B[0m | \u001B[1mINFO    \u001B[0m | \u001B[36mepf.config\u001B[0m:\u001B[36mcreate_dir\u001B[0m:\u001B[36m14\u001B[0m - \u001B[1mFIGURES_DIR path is: C:\\Users\\valen\\PycharmProjects\\epf\\reports\\figures\u001B[0m\n"
     ]
    }
   ],
   "execution_count": 1
  },
  {
   "metadata": {},
   "cell_type": "code",
   "source": "pipeline.train(\"lstm_vre_and_de_load\", True, False)",
   "id": "e8e0684d3f8996a6",
   "outputs": [],
   "execution_count": null
  },
  {
   "metadata": {},
   "cell_type": "code",
   "source": [
    "import pickle as pkl\n",
    "\n",
    "with open(\"../data/processed/performance.pkl\", \"rb\") as f:\n",
    "    performance = pkl.load(f)\n",
    "\n",
    "with open(\"../data/processed/val_performance.pkl\", \"rb\") as f:\n",
    "    val_performance = pkl.load(f)"
   ],
   "id": "6ab9a115d2815b3f",
   "outputs": [],
   "execution_count": null
  },
  {
   "metadata": {},
   "cell_type": "code",
   "source": [
    "from matplotlib import pyplot as plt\n",
    "import numpy as np\n",
    "\n",
    "x = np.arange(len(performance))\n",
    "width = 0.3\n",
    "\n",
    "metric_name = 'mean_absolute_error'\n",
    "val_mae = [v[metric_name] for v in val_performance.values()]\n",
    "test_mae = [v[metric_name] for v in performance.values()]\n",
    "\n",
    "plt.bar(x - 0.17, val_mae, width, label='Validation')\n",
    "plt.bar(x + 0.17, test_mae, width, label='Test')\n",
    "plt.xticks(ticks=x, labels=performance.keys(),\n",
    "           rotation=45)\n",
    "plt.ylabel(f'MAE (average over all times and outputs)')\n",
    "_ = plt.legend()"
   ],
   "id": "aa0d933663352628",
   "outputs": [],
   "execution_count": null
  },
  {
   "metadata": {
    "ExecuteTime": {
     "end_time": "2025-04-28T15:10:45.138351Z",
     "start_time": "2025-04-28T15:10:43.688985Z"
    }
   },
   "cell_type": "code",
   "source": [
    "from epf.config import PREDICTIONS_DIR, MODELS_DIR, TRAIN_DATA_DIR\n",
    "\n",
    "data_path = TRAIN_DATA_DIR / \"test_df.pkl\"\n",
    "model_path = MODELS_DIR / \"lstm_vre_and_de_load.keras\"\n",
    "predictions_dir = PREDICTIONS_DIR\n",
    "\n",
    "pipeline.predict(data_path=data_path, model_path=model_path, predictions_dir=predictions_dir)"
   ],
   "id": "38311cf0f18734db",
   "outputs": [
    {
     "name": "stdout",
     "output_type": "stream",
     "text": [
      "[[[9.38579420e+01 4.70382167e+03 4.22547032e+03 ... 1.00000000e+01\n",
      "   6.00000000e+00 0.00000000e+00]\n",
      "  [8.94442715e+01 4.68426814e+03 4.56015069e+03 ... 1.00000000e+01\n",
      "   6.00000000e+00 0.00000000e+00]\n",
      "  [7.68534665e+01 4.66772210e+03 4.28291255e+03 ... 1.00000000e+01\n",
      "   6.00000000e+00 0.00000000e+00]\n",
      "  ...\n",
      "  [5.66748923e+01 1.95360887e+03 2.21257030e+03 ... 1.20000000e+01\n",
      "   2.00000000e+00 0.00000000e+00]\n",
      "  [5.86422750e+01 1.95812844e+03 2.23336572e+03 ... 1.20000000e+01\n",
      "   2.00000000e+00 0.00000000e+00]\n",
      "  [6.77204625e+01 1.96275723e+03 2.57531256e+03 ... 1.20000000e+01\n",
      "   2.00000000e+00 0.00000000e+00]]]\n",
      "\u001B[1m1/1\u001B[0m \u001B[32m━━━━━━━━━━━━━━━━━━━━\u001B[0m\u001B[37m\u001B[0m \u001B[1m0s\u001B[0m 231ms/step\n"
     ]
    },
    {
     "name": "stderr",
     "output_type": "stream",
     "text": [
      "\u001B[32m2025-04-28 17:10:44.040\u001B[0m | \u001B[32m\u001B[1mSUCCESS \u001B[0m | \u001B[36mepf.pipeline\u001B[0m:\u001B[36mpredict\u001B[0m:\u001B[36m384\u001B[0m - \u001B[32m\u001B[1mSuccessfully predicted features.\u001B[0m\n",
      "\u001B[32m2025-04-28 17:10:44.041\u001B[0m | \u001B[32m\u001B[1mSUCCESS \u001B[0m | \u001B[36mepf.pipeline\u001B[0m:\u001B[36mpredict\u001B[0m:\u001B[36m389\u001B[0m - \u001B[32m\u001B[1mSuccessfully saved predictions to C:\\Users\\valen\\PycharmProjects\\epf\\models\\predictions\\predictions_from_lstm_vre_and_de_load.pkl\u001B[0m\n"
     ]
    },
    {
     "ename": "PermissionError",
     "evalue": "[Errno 13] Permission denied: 'C:\\\\Users\\\\valen\\\\PycharmProjects\\\\epf\\\\models\\\\predictions'",
     "output_type": "error",
     "traceback": [
      "\u001B[1;31m---------------------------------------------------------------------------\u001B[0m",
      "\u001B[1;31mPermissionError\u001B[0m                           Traceback (most recent call last)",
      "Cell \u001B[1;32mIn[3], line 9\u001B[0m\n\u001B[0;32m      5\u001B[0m predictions_dir \u001B[38;5;241m=\u001B[39m PREDICTIONS_DIR\n\u001B[0;32m      7\u001B[0m pipeline\u001B[38;5;241m.\u001B[39mpredict(data_path\u001B[38;5;241m=\u001B[39mdata_path, model_path\u001B[38;5;241m=\u001B[39mmodel_path, predictions_dir\u001B[38;5;241m=\u001B[39mpredictions_dir)\n\u001B[1;32m----> 9\u001B[0m \u001B[38;5;28;01mwith\u001B[39;00m \u001B[38;5;28;43mopen\u001B[39;49m\u001B[43m(\u001B[49m\u001B[43mpredictions_dir\u001B[49m\u001B[43m,\u001B[49m\u001B[43m \u001B[49m\u001B[38;5;124;43m\"\u001B[39;49m\u001B[38;5;124;43mrb\u001B[39;49m\u001B[38;5;124;43m\"\u001B[39;49m\u001B[43m)\u001B[49m \u001B[38;5;28;01mas\u001B[39;00m f:\n\u001B[0;32m     10\u001B[0m     preds \u001B[38;5;241m=\u001B[39m pkl\u001B[38;5;241m.\u001B[39mload(f)\n\u001B[0;32m     12\u001B[0m plt\u001B[38;5;241m.\u001B[39mplot(preds[\u001B[38;5;124m\"\u001B[39m\u001B[38;5;124my_test\u001B[39m\u001B[38;5;124m\"\u001B[39m]\u001B[38;5;241m.\u001B[39mflatten(), label\u001B[38;5;241m=\u001B[39m\u001B[38;5;124m\"\u001B[39m\u001B[38;5;124mTrue\u001B[39m\u001B[38;5;124m\"\u001B[39m)\n",
      "File \u001B[1;32m~\\.virtualenvs\\bachelor_arbeit\\lib\\site-packages\\IPython\\core\\interactiveshell.py:324\u001B[0m, in \u001B[0;36m_modified_open\u001B[1;34m(file, *args, **kwargs)\u001B[0m\n\u001B[0;32m    317\u001B[0m \u001B[38;5;28;01mif\u001B[39;00m file \u001B[38;5;129;01min\u001B[39;00m {\u001B[38;5;241m0\u001B[39m, \u001B[38;5;241m1\u001B[39m, \u001B[38;5;241m2\u001B[39m}:\n\u001B[0;32m    318\u001B[0m     \u001B[38;5;28;01mraise\u001B[39;00m \u001B[38;5;167;01mValueError\u001B[39;00m(\n\u001B[0;32m    319\u001B[0m         \u001B[38;5;124mf\u001B[39m\u001B[38;5;124m\"\u001B[39m\u001B[38;5;124mIPython won\u001B[39m\u001B[38;5;124m'\u001B[39m\u001B[38;5;124mt let you open fd=\u001B[39m\u001B[38;5;132;01m{\u001B[39;00mfile\u001B[38;5;132;01m}\u001B[39;00m\u001B[38;5;124m by default \u001B[39m\u001B[38;5;124m\"\u001B[39m\n\u001B[0;32m    320\u001B[0m         \u001B[38;5;124m\"\u001B[39m\u001B[38;5;124mas it is likely to crash IPython. If you know what you are doing, \u001B[39m\u001B[38;5;124m\"\u001B[39m\n\u001B[0;32m    321\u001B[0m         \u001B[38;5;124m\"\u001B[39m\u001B[38;5;124myou can use builtins\u001B[39m\u001B[38;5;124m'\u001B[39m\u001B[38;5;124m open.\u001B[39m\u001B[38;5;124m\"\u001B[39m\n\u001B[0;32m    322\u001B[0m     )\n\u001B[1;32m--> 324\u001B[0m \u001B[38;5;28;01mreturn\u001B[39;00m io_open(file, \u001B[38;5;241m*\u001B[39margs, \u001B[38;5;241m*\u001B[39m\u001B[38;5;241m*\u001B[39mkwargs)\n",
      "\u001B[1;31mPermissionError\u001B[0m: [Errno 13] Permission denied: 'C:\\\\Users\\\\valen\\\\PycharmProjects\\\\epf\\\\models\\\\predictions'"
     ]
    }
   ],
   "execution_count": 3
  },
  {
   "metadata": {},
   "cell_type": "code",
   "outputs": [],
   "execution_count": null,
   "source": "",
   "id": "528dbcd3dfdceaf6"
  }
 ],
 "metadata": {
  "kernelspec": {
   "display_name": "Python 3",
   "language": "python",
   "name": "python3"
  },
  "language_info": {
   "codemirror_mode": {
    "name": "ipython",
    "version": 2
   },
   "file_extension": ".py",
   "mimetype": "text/x-python",
   "name": "python",
   "nbconvert_exporter": "python",
   "pygments_lexer": "ipython2",
   "version": "2.7.6"
  }
 },
 "nbformat": 4,
 "nbformat_minor": 5
}
