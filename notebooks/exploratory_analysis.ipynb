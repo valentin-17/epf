{
 "cells": [
  {
   "metadata": {
    "ExecuteTime": {
     "end_time": "2025-03-21T14:35:41.430631Z",
     "start_time": "2025-03-21T14:35:41.415612Z"
    }
   },
   "cell_type": "code",
   "source": [
    "import pandas as pd\n",
    "import seaborn as sns\n",
    "import matplotlib.pyplot as plt"
   ],
   "id": "457d98713b0ba08d",
   "outputs": [],
   "execution_count": 153
  },
  {
   "metadata": {},
   "cell_type": "markdown",
   "source": "# Prep Work",
   "id": "38f76f2f8cbeb57"
  },
  {
   "metadata": {
    "ExecuteTime": {
     "end_time": "2025-03-21T13:43:43.628013Z",
     "start_time": "2025-03-21T13:43:43.612995Z"
    }
   },
   "cell_type": "code",
   "source": [
    "def load_and_concat_data(file_paths, column_names):\n",
    "    \"\"\"\n",
    "    Load and concatenate data from multiple CSV files given by file_paths.\n",
    "\n",
    "    :param file_paths: List of file paths to the CSV files.\n",
    "    :param column_names: List of column names for the CSV files.\n",
    "\n",
    "    :return pd.DataFrame: DataFrame for each feature containing raw data from the years 2023 - 2024.\n",
    "    \"\"\"\n",
    "    df = [pd.read_csv(file_path, header=1, names=column_names) for file_path in file_paths]\n",
    "    concat_data = pd.concat(df)\n",
    "    concat_data.reset_index(drop=True, inplace=True)\n",
    "    concat_data[\"timestamp\"] = pd.to_datetime(concat_data[\"timestamp\"])\n",
    "    concat_data.set_index(\"timestamp\", inplace=True)\n",
    "    \n",
    "    # if na values are present interpolate them based on the timestamp\n",
    "    if concat_data.isna().sum().sum() > 0:\n",
    "        concat_data.interpolate(method=\"time\", inplace=True)\n",
    "    \n",
    "    return concat_data"
   ],
   "id": "28419edf1d80958a",
   "outputs": [],
   "execution_count": 92
  },
  {
   "metadata": {},
   "cell_type": "markdown",
   "source": "### File Paths and Column Names config",
   "id": "bd16574ac516dc27"
  },
  {
   "metadata": {
    "ExecuteTime": {
     "end_time": "2025-03-21T13:43:45.252720Z",
     "start_time": "2025-03-21T13:43:45.239721Z"
    }
   },
   "cell_type": "code",
   "source": [
    "file_paths = {\n",
    "    \"de_prices\": [\"../data/raw/de_prices_2023.csv\", \"../data/raw/de_prices_2024.csv\"],\n",
    "    \"de_load\": [\"../data/raw/de_load_2023.csv\", \"../data/raw/de_load_2024.csv\"],\n",
    "    \"de_solar_gen\": [\"../data/raw/de_solar_gen_2023.csv\", \"../data/raw/de_solar_gen_2024.csv\"],\n",
    "    \"de_wind_gen_offshore\": [\"../data/raw/de_wind_gen_offshore_2023.csv\", \"../data/raw/de_wind_gen_offshore_2024.csv\"],\n",
    "    \"de_wind_gen_onshore\": [\"../data/raw/de_wind_gen_onshore_2023.csv\", \"../data/raw/de_wind_gen_onshore_2024.csv\"],\n",
    "    \"ch_load\": [\"../data/raw/ch_load_2023.csv\", \"../data/raw/ch_load_2024.csv\"],\n",
    "    \"dk_load\": [\"../data/raw/dk_load_2023.csv\", \"../data/raw/dk_load_2024.csv\"],\n",
    "    \"fr_load\": [\"../data/raw/fr_load_2023.csv\", \"../data/raw/fr_load_2024.csv\"]\n",
    "}\n",
    "\n",
    "column_names = {\n",
    "    \"de_prices\": [\"timestamp\", \"de_lu_price\"],\n",
    "    \"de_load\": [\"timestamp\", \"de_load\"],\n",
    "    \"de_solar_gen\": [\"timestamp\", \"de_solar_gen\"],\n",
    "    \"de_wind_gen_offshore\": [\"timestamp\", \"de_wind_gen_offshore\"],\n",
    "    \"de_wind_gen_onshore\": [\"timestamp\", \"de_wind_gen_onshore\"],\n",
    "    \"ch_load\": [\"timestamp\", \"ch_load\"],\n",
    "    \"dk_load\": [\"timestamp\", \"dk_load\"],\n",
    "    \"fr_load\": [\"timestamp\", \"fr_load\"]\n",
    "}"
   ],
   "id": "49ac066966d7ee69",
   "outputs": [],
   "execution_count": 93
  },
  {
   "metadata": {},
   "cell_type": "markdown",
   "source": "### Populate new dataframes with raw data from years 2023 and 2024",
   "id": "d27a962917ff44f6"
  },
  {
   "metadata": {
    "ExecuteTime": {
     "end_time": "2025-03-21T13:43:48.194782Z",
     "start_time": "2025-03-21T13:43:46.752781Z"
    }
   },
   "cell_type": "code",
   "source": [
    "de_prices = load_and_concat_data(file_paths[\"de_prices\"], column_names[\"de_prices\"])\n",
    "de_load = load_and_concat_data(file_paths[\"de_load\"], column_names[\"de_load\"])\n",
    "de_solar_gen = load_and_concat_data(file_paths[\"de_solar_gen\"], column_names[\"de_solar_gen\"])\n",
    "de_wind_gen_offshore = load_and_concat_data(file_paths[\"de_wind_gen_offshore\"], column_names[\"de_wind_gen_offshore\"])\n",
    "de_wind_gen_onshore = load_and_concat_data(file_paths[\"de_wind_gen_onshore\"], column_names[\"de_wind_gen_onshore\"])\n",
    "ch_load = load_and_concat_data(file_paths[\"ch_load\"], column_names[\"ch_load\"])\n",
    "dk_load = load_and_concat_data(file_paths[\"dk_load\"], column_names[\"dk_load\"])\n",
    "fr_load = load_and_concat_data(file_paths[\"fr_load\"], column_names[\"fr_load\"])"
   ],
   "id": "ddd373be6ddf1efe",
   "outputs": [],
   "execution_count": 94
  },
  {
   "metadata": {
    "ExecuteTime": {
     "end_time": "2025-03-21T13:43:48.226588Z",
     "start_time": "2025-03-21T13:43:48.197783Z"
    }
   },
   "cell_type": "code",
   "source": [
    "# resample the quarter hourly timeseries to hourly. see readme for affected timeseries\n",
    "de_load = de_load.resample(\"h\").mean()\n",
    "de_solar_gen = de_solar_gen.resample(\"h\").mean()\n",
    "de_wind_gen_offshore = de_wind_gen_offshore.resample(\"h\").mean()\n",
    "de_wind_gen_onshore = de_wind_gen_onshore.resample(\"h\").mean()"
   ],
   "id": "ea6d894d7b2bae79",
   "outputs": [],
   "execution_count": 95
  },
  {
   "metadata": {
    "ExecuteTime": {
     "end_time": "2025-03-21T13:43:49.429182Z",
     "start_time": "2025-03-21T13:43:49.419157Z"
    }
   },
   "cell_type": "code",
   "source": [
    "dataframes = [\n",
    "    de_prices,\n",
    "    de_load,\n",
    "    de_solar_gen,\n",
    "    de_wind_gen_offshore,\n",
    "    de_wind_gen_onshore,\n",
    "    ch_load,\n",
    "    dk_load,\n",
    "    fr_load\n",
    "]\n",
    "\n",
    "combined_df = pd.concat(dataframes, axis=1)"
   ],
   "id": "180fe04afc623ee0",
   "outputs": [
    {
     "name": "stdout",
     "output_type": "stream",
     "text": [
      "de_lu_price             0\n",
      "de_load                 0\n",
      "de_solar_gen            0\n",
      "de_wind_gen_offshore    0\n",
      "de_wind_gen_onshore     0\n",
      "ch_load                 0\n",
      "dk_load                 0\n",
      "fr_load                 0\n",
      "dtype: int64\n"
     ]
    }
   ],
   "execution_count": 96
  },
  {
   "metadata": {},
   "cell_type": "markdown",
   "source": "# Statisical Analysis",
   "id": "28c967ce82893197"
  },
  {
   "metadata": {},
   "cell_type": "code",
   "source": [
    "correlation_matrix = combined_df.corr(method=\"pearson\")\n",
    "correlation_matrix = correlation_matrix.drop(index=[\"de_lu_price\"])\n",
    "correlation_matrix = correlation_matrix[[\"de_lu_price\"]].sort_values(by=\"de_lu_price\", ascending=False)\n",
    "\n",
    "cmap = sns.diverging_palette(20, 230, as_cmap=True)\n",
    "\n",
    "plt.figure(figsize=(8, 6))\n",
    "sns.heatmap(correlation_matrix, \n",
    "            cmap=cmap,\n",
    "            annot=True,  \n",
    "            square=True, \n",
    "            cbar=False,\n",
    "            center=0,\n",
    "            yticklabels=[\"DE Load\", \"FR Load\", \"DK Load\", \"CH Load\", \"DE Wind Gen Offshore\", \"DE Solar Gen\", \"DE Wind Gen Onshore\"],\n",
    "            xticklabels=[\"DE-LU Prices\"]).set_title(\"Correlation coefficients\")\n",
    "\n",
    "plt.savefig(\"../reports/figures/de_lu_price_correlations.png\", dpi=300)\n",
    "\n",
    "plt.show()"
   ],
   "id": "7ee112f4fbcd22ce",
   "outputs": [],
   "execution_count": null
  },
  {
   "metadata": {},
   "cell_type": "code",
   "outputs": [],
   "execution_count": null,
   "source": "",
   "id": "49e959390e3d2f89"
  }
 ],
 "metadata": {
  "kernelspec": {
   "display_name": "Python 3",
   "language": "python",
   "name": "python3"
  },
  "language_info": {
   "codemirror_mode": {
    "name": "ipython",
    "version": 2
   },
   "file_extension": ".py",
   "mimetype": "text/x-python",
   "name": "python",
   "nbconvert_exporter": "python",
   "pygments_lexer": "ipython2",
   "version": "2.7.6"
  }
 },
 "nbformat": 4,
 "nbformat_minor": 5
}
