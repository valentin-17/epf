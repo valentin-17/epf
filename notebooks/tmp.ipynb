{
 "cells": [
  {
   "metadata": {},
   "cell_type": "code",
   "outputs": [],
   "execution_count": null,
   "source": "",
   "id": "e6626a82731ba842"
  },
  {
   "metadata": {},
   "cell_type": "code",
   "outputs": [],
   "execution_count": null,
   "source": [
    "def parse_time_to_seconds(time_str):\n",
    "    h_str, m_str, s_str = time_str.split(':')\n",
    "    h = int(h_str.rstrip('h'))\n",
    "    m = int(m_str.rstrip('m'))\n",
    "    s = int(s_str.rstrip('s'))\n",
    "    return h * 3600 + m * 60 + s\n",
    "\n",
    "def format_mmss(total_seconds):\n",
    "    minutes = total_seconds // 60\n",
    "    seconds = total_seconds % 60\n",
    "    return f\"{minutes:02d}m:{seconds:02d}s\"\n",
    "\n",
    "res = []\n",
    "for model_name, times in timings.items():\n",
    "    feat_sec = parse_time_to_seconds(times[\"feature_generation\"])\n",
    "    hp_sec = parse_time_to_seconds(times[\"hp_tuning\"])\n",
    "    train_sec = parse_time_to_seconds(times[\"training\"])\n",
    "\n",
    "    data_proc = feat_sec\n",
    "    tuning = hp_sec - feat_sec\n",
    "    training = train_sec - hp_sec\n",
    "    total = train_sec\n",
    "\n",
    "    res.append({\n",
    "        \"Model\": model_name,\n",
    "        \"Data Processing\": format_mmss(data_proc),\n",
    "        \"Tuning\": format_mmss(tuning),\n",
    "        \"Training\": format_mmss(training),\n",
    "        'Total': format_mmss(total)\n",
    "    })\n",
    "\n",
    "df_timings = pd.DataFrame(res).set_index(\"Model\")\n",
    "df_timings"
   ],
   "id": "52e26614986012cd"
  },
  {
   "metadata": {},
   "cell_type": "markdown",
   "source": "# MAE and RMSE on hourly corrected data",
   "id": "898e88d036a79e03"
  },
  {
   "metadata": {},
   "cell_type": "code",
   "outputs": [],
   "execution_count": null,
   "source": [
    "import pandas as pd\n",
    "\n",
    "# load forecasts\n",
    "forecasts = pd.read_csv('../data/processed/forecasts.csv', parse_dates=True).dropna()\n",
    "df_price = pd.read_csv('../data/raw/de_prices_2024.csv', parse_dates=True, skiprows=2, index_col=0, names=['de_prices'], dtype={'de_prices': float})\n",
    "df_price.index = df_price.index.tz_localize(None)\n",
    "\n",
    "forecasts.set_index('target_timestamp', inplace=True)\n",
    "forecasts.index = pd.to_datetime(forecasts.index)\n",
    "\n",
    "start = forecasts.index[0]\n",
    "end = forecasts.index[-1]\n",
    "\n",
    "df_price = df_price.loc[start:end]\n",
    "\n",
    "true_prices = df_price.loc[: ,['de_prices']]"
   ],
   "id": "f8875362211b81f7"
  },
  {
   "metadata": {},
   "cell_type": "code",
   "outputs": [],
   "execution_count": null,
   "source": [
    "errors = pd.DataFrame()\n",
    "\n",
    "for col in forecasts.columns:\n",
    "    errors[col + '_error'] = forecasts[col] - true_prices['de_prices']"
   ],
   "id": "d97c951e393db3f8"
  },
  {
   "metadata": {},
   "cell_type": "code",
   "outputs": [],
   "execution_count": null,
   "source": [
    "import pickle as pkl\n",
    "import seaborn as sns\n",
    "import pandas as pd\n",
    "from matplotlib import pyplot as plt\n",
    "\n",
    "with open(\"../data/processed/performance.pkl\", \"rb\") as f:\n",
    "    performance = pkl.load(f)\n",
    "\n",
    "drop_cols = [col for col in performance.keys() if not col.startswith('shifted')]\n",
    "p = pd.DataFrame(performance).drop(columns=drop_cols).T.sort_values('mean_absolute_error', ascending=False)\n",
    "\n",
    "plt.figure(figsize=(12, 4))\n",
    "\n",
    "sns.barplot(data=p, x=p.index, y='mean_absolute_error')\n",
    "plt.xticks(rotation=90)\n",
    "plt.show()"
   ],
   "id": "8858dc07e40c3936"
  }
 ],
 "metadata": {
  "kernelspec": {
   "display_name": "Python 3",
   "language": "python",
   "name": "python3"
  },
  "language_info": {
   "codemirror_mode": {
    "name": "ipython",
    "version": 2
   },
   "file_extension": ".py",
   "mimetype": "text/x-python",
   "name": "python",
   "nbconvert_exporter": "python",
   "pygments_lexer": "ipython2",
   "version": "2.7.6"
  }
 },
 "nbformat": 4,
 "nbformat_minor": 5
}
