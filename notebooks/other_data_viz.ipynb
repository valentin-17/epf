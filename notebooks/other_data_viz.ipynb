{
 "cells": [
  {
   "metadata": {
    "collapsed": true
   },
   "cell_type": "code",
   "source": [
    "import numpy as np\n",
    "import pandas as pd\n",
    "import seaborn as sns\n",
    "import matplotlib.pyplot as plt\n",
    "from matplotlib.pyplot import legend\n",
    "\n",
    "from epf.util import load_and_concat_data, predict_with_timestamps\n",
    "from epf.config import PROCESSED_DATA_DIR, FeatureConfig"
   ],
   "id": "initial_id",
   "outputs": [],
   "execution_count": null
  },
  {
   "metadata": {},
   "cell_type": "code",
   "source": [
    "file_paths = {'de_prices': ['de_prices_2020.csv', 'de_prices_2021.csv', 'de_prices_2022.csv', 'de_prices_2023.csv', 'de_prices_2024.csv']}\n",
    "\n",
    "COLORS = {\n",
    "    \"blue\": \"#3a609c\",\n",
    "    \"blue_grey\": \"#69a0cb\",\n",
    "    \"light_blue\": \"#afe1f5\",\n",
    "    \"dark_green\": \"#345c0e\",\n",
    "    \"olive\": \"#74953d\",\n",
    "    \"green\": \"#c0d159\",\n",
    "    \"gold\": \"#ffd700\",\n",
    "    \"orange\": \"#ffb14e\",\n",
    "    \"light_orange\": \"#fa8775\",\n",
    "    \"magenta\": \"#840853\",\n",
    "    \"purple\": \"#ba55aa\",\n",
    "    \"light_purple\": \"#d1a7ef\"\n",
    "}"
   ],
   "id": "e82d5966cb2349d6",
   "outputs": [],
   "execution_count": null
  },
  {
   "metadata": {},
   "cell_type": "markdown",
   "source": "# avg Weekly volatility de lu prices",
   "id": "c6cf2bd81c5e423a"
  },
  {
   "metadata": {},
   "cell_type": "code",
   "source": [
    "tmp = []\n",
    "\n",
    "for file_path in file_paths.values():\n",
    "    col_name = [k for k, v in file_paths.items() if v == file_path]\n",
    "    data = load_and_concat_data(file_path, col_name[0])\n",
    "    tmp.append(data)\n",
    "\n",
    "df = pd.concat(tmp, axis=1)"
   ],
   "id": "36a8465c01385e48",
   "outputs": [],
   "execution_count": null
  },
  {
   "metadata": {},
   "cell_type": "code",
   "source": [
    "df['volatility'] = df['de_prices'].rolling(window=24).std()\n",
    "df['year'] = df.index.year\n",
    "df['day'] = [x.strftime('%j') for x in df.index]\n",
    "df['week'] = [x.strftime('%W') for x in df.index]"
   ],
   "id": "23fb6a3c4ac3bac5",
   "outputs": [],
   "execution_count": null
  },
  {
   "metadata": {},
   "cell_type": "code",
   "source": [
    "df['mean_price'] = df['de_prices'].rolling(window=24*7).mean()\n",
    "df['std_dev'] = df['de_prices'].rolling(window=24*7).std()\n",
    "\n",
    "df['upper_band'] = df['mean_price'] + df['std_dev']\n",
    "df['lower_band'] = df['mean_price'] - df['std_dev']\n",
    "\n",
    "sns.set_style('ticks')\n",
    "\n",
    "# Plot\n",
    "plt.figure(figsize=(12, 4))\n",
    "plt.plot(df.index, df['mean_price'], color=COLORS['magenta'], label='Mean Price')\n",
    "plt.fill_between(df.index, df['lower_band'], df['upper_band'], color=COLORS['purple'], alpha=0.3, label='Standard Deviation')\n",
    "plt.xlabel('Year')\n",
    "plt.ylabel('Price in €/MWh')\n",
    "plt.legend(loc='upper left')\n",
    "\n",
    "#plt.title('Average weekly volatility of Prices in DE_LU bidding zone')\n",
    "\n",
    "#plt.savefig(\"../reports/figures/volatility.pdf\", dpi=300, bbox_inches='tight')"
   ],
   "id": "60ece94ce267f21c",
   "outputs": [],
   "execution_count": null
  },
  {
   "metadata": {},
   "cell_type": "markdown",
   "source": "# Normed features",
   "id": "c8851c2163f98efe"
  },
  {
   "metadata": {},
   "cell_type": "code",
   "source": [
    "path = PROCESSED_DATA_DIR / \"features.csv\"\n",
    "df = pd.read_csv(path, index_col=0, parse_dates=True)"
   ],
   "id": "33ce1af7845018c0",
   "outputs": [],
   "execution_count": null
  },
  {
   "metadata": {},
   "cell_type": "code",
   "source": [
    "import pickle as pkl\n",
    "import pandas as pd\n",
    "import matplotlib.pyplot as plt\n",
    "import seaborn as sns\n",
    "\n",
    "with open(\"../data/processed/train_data/train_df.pkl\", \"rb\") as f:\n",
    "    train_df = pkl.load(f)\n",
    "fs = pd.read_csv(\"../data/processed/features.csv\", index_col=0, parse_dates=True)\n",
    "\n",
    "feature_set = fs[['de_gas_gen_rm_seasonal', 'de_hard_coal_gen_rm_seasonal', 'de_lignite_gen_rm_seasonal', 'de_solar_gen_rm_seasonal', 'de_wind_gen_offshore_rm_seasonal', 'de_wind_gen_onshore_rm_seasonal', 'ch_load_rm_seasonal', 'de_load_rm_seasonal', 'dk_load_rm_seasonal', 'fr_load_rm_seasonal', 'ch_prices_hat_rm_seasonal', 'de_prices_hat_rm_seasonal', 'dk1_prices_hat_rm_seasonal', 'dk2_prices_hat_rm_seasonal', 'fr_prices_hat_rm_seasonal']]\n",
    "train_df = train_df[['de_gas_gen_rm_seasonal', 'de_hard_coal_gen_rm_seasonal', 'de_lignite_gen_rm_seasonal', 'de_solar_gen_rm_seasonal', 'de_wind_gen_offshore_rm_seasonal', 'de_wind_gen_onshore_rm_seasonal', 'ch_load_rm_seasonal', 'de_load_rm_seasonal', 'dk_load_rm_seasonal', 'fr_load_rm_seasonal', 'ch_prices_hat_rm_seasonal', 'de_prices_hat_rm_seasonal', 'dk1_prices_hat_rm_seasonal', 'dk2_prices_hat_rm_seasonal', 'fr_prices_hat_rm_seasonal']]\n",
    "\n",
    "palette = {\n",
    "    # first palette\n",
    "    'de_gas_gen_rm_seasonal': COLORS['magenta'],\n",
    "    'de_hard_coal_gen_rm_seasonal': COLORS['purple'],\n",
    "    'de_lignite_gen_rm_seasonal': COLORS['light_purple'],\n",
    "    'de_solar_gen_rm_seasonal': COLORS['orange'],\n",
    "    'de_wind_gen_offshore_rm_seasonal': COLORS['light_orange'],\n",
    "    'de_wind_gen_onshore_rm_seasonal': COLORS['gold'],\n",
    "\n",
    "    # second palette\n",
    "    'ch_load_rm_seasonal': COLORS['magenta'],\n",
    "    'de_load_rm_seasonal': COLORS['purple'],\n",
    "    'dk_load_rm_seasonal': COLORS['light_purple'],\n",
    "    'fr_load_rm_seasonal': COLORS['orange'],\n",
    "\n",
    "    # third palette\n",
    "    'ch_prices_hat_rm_seasonal': COLORS['magenta'],\n",
    "    'de_prices_hat_rm_seasonal': COLORS['purple'],\n",
    "    'dk1_prices_hat_rm_seasonal': COLORS['light_purple'],\n",
    "    'dk2_prices_hat_rm_seasonal': COLORS['orange'],\n",
    "    'fr_prices_hat_rm_seasonal': COLORS['light_orange'],\n",
    "}\n",
    "\n",
    "labels = {\n",
    "    #first labels\n",
    "    'de_solar_gen_rm_seasonal': 'Solar',\n",
    "    'de_wind_gen_onshore_rm_seasonal': 'Wind\\nonshore',\n",
    "    'de_wind_gen_offshore_rm_seasonal': 'Wind\\noffshore',\n",
    "    'de_hard_coal_gen_rm_seasonal': 'Hard\\nCoal',\n",
    "    'de_lignite_gen_rm_seasonal': 'Lignite',\n",
    "    'de_gas_gen_rm_seasonal': 'Gas',\n",
    "\n",
    "    # second labels\n",
    "    'de_load_rm_seasonal': 'DE',\n",
    "    'fr_load_rm_seasonal': 'FR',\n",
    "    'ch_load_rm_seasonal': 'CH',\n",
    "    'dk_load_rm_seasonal': 'DK',\n",
    "\n",
    "    # third labels\n",
    "    'de_prices_hat_rm_seasonal': 'DE-LU',\n",
    "    'ch_prices_hat_rm_seasonal': 'CH',\n",
    "    'dk1_prices_hat_rm_seasonal': 'DK1',\n",
    "    'dk2_prices_hat_rm_seasonal': 'DK2',\n",
    "    'fr_prices_hat_rm_seasonal': 'FR',\n",
    "}\n",
    "\n",
    "train_mean = train_df.mean()\n",
    "train_std = train_df.std()\n",
    "\n",
    "keys = feature_set.keys()\n",
    "\n",
    "sns.set_style(\"ticks\")\n",
    "\n",
    "df_std = (feature_set - train_mean) / train_std\n",
    "plt.figure(figsize=(12, 4))\n",
    "\n",
    "ax = sns.violinplot(data=df_std, inner=\"quart\", palette=palette, saturation=1)\n",
    "for violin, color in zip(ax.collections[::1], palette.values()):\n",
    "    facecolor = plt.matplotlib.colors.to_rgba(color, alpha=0.4)\n",
    "    violin.set_facecolor(facecolor)\n",
    "    violin.set_edgecolor(color)\n",
    "#ax.axhline(y=0, color='black', linestyle='-', linewidth=0.5)\n",
    "ax.set_xticks(range(len(df_std.columns)))\n",
    "ax.set_xticklabels([labels[col] for col in df_std.columns])\n",
    "ax.set_ylabel('Normed')\n",
    "ax.axvline(x = 5.5, color='black', linestyle=(0, (5, 5)), linewidth=0.5)\n",
    "ax.axvline(x = 9.5, color='black', linestyle=(0, (5, 5)), linewidth=0.5)\n",
    "\n",
    "sec = ax.secondary_xaxis(location=0)\n",
    "sec.set_xticks(ticks=[2.5, 7.5, 12], labels=['\\nDE Generation', '\\nLoad', '\\nPrices'])\n",
    "sec.tick_params('x', length=0, pad=20)\n",
    "sec.spines[\"bottom\"].set_visible(False)\n",
    "\n",
    "sec2 = ax.secondary_xaxis(location=0)\n",
    "sec2.set_xticks(ticks=[5.5, 9.5], labels=[])\n",
    "sec2.tick_params('x', length=40, width=0.5)\n",
    "sec2.spines[\"bottom\"].set_visible(False)\n",
    "\n",
    "plt.savefig(\"../reports/figures/normed_feature_distribution_corrected.pdf\", dpi=300, bbox_inches='tight')\n",
    "\n",
    "plt.show()"
   ],
   "id": "49155785e95e33e6",
   "outputs": [],
   "execution_count": null
  },
  {
   "metadata": {},
   "cell_type": "markdown",
   "source": "# Metrics",
   "id": "c291d091cc71628"
  },
  {
   "metadata": {},
   "cell_type": "code",
   "source": [
    "import pickle as pkl\n",
    "import seaborn as sns\n",
    "import pandas as pd\n",
    "from matplotlib import pyplot as plt\n",
    "\n",
    "with open(\"../data/processed/performance.pkl\", \"rb\") as f:\n",
    "    performance = pkl.load(f)\n",
    "\n",
    "with open(\"../data/processed/val_performance.pkl\", \"rb\") as f:\n",
    "    val_performance = pkl.load(f)\n",
    "\n",
    "models = {\n",
    "    'lstm_vre': 'VRE',\n",
    "    'lstm_all_features': 'all',}\n",
    "\n",
    "palette = {\n",
    "    'Validation': COLORS['magenta'],\n",
    "    'Test': COLORS['purple'],\n",
    "}\n",
    "\n",
    "# Metriken, die geplottet werden sollen\n",
    "metrics = {'mean_absolute_error':'MAE', 'mean_absolute_percentage_error':'MAPE', 'root_mean_squared_error':'RMSE'}\n",
    "\n",
    "# Bereite die Daten für die Plots vor\n",
    "data = []\n",
    "for model_key, model_name in models.items():\n",
    "    for metric, name in metrics.items():\n",
    "        data.append({\n",
    "            'Model': model_name,\n",
    "            'Metric': name,\n",
    "            'Dataset': 'Validation',\n",
    "            'Value': val_performance[model_key][metric]\n",
    "        })\n",
    "        data.append({\n",
    "            'Model': model_name,\n",
    "            'Metric': name,\n",
    "            'Dataset': 'Test',\n",
    "            'Value': performance[model_key][metric]\n",
    "        })\n",
    "\n",
    "df = pd.DataFrame(data)\n",
    "\n",
    "# Erstelle die Barplots\n",
    "sns.set_style('ticks')\n",
    "fig, axes = plt.subplots(len(metrics), 1, figsize=(12, 4*len(metrics)), sharex=True)\n",
    "\n",
    "for i, (metric_key, metric_name) in enumerate(metrics.items()):\n",
    "    sns.barplot(\n",
    "        data=df[df['Metric'] == metric_name],\n",
    "        x='Model',\n",
    "        y='Value',\n",
    "        hue='Dataset',\n",
    "        palette=palette,\n",
    "        ax=axes[i],\n",
    "        dodge=True\n",
    "    )\n",
    "    axes[i].set_ylabel(metric_name)\n",
    "    axes[i].set_xlabel('Features')\n",
    "\n",
    "    if i == 0:\n",
    "        axes[i].legend()\n",
    "    else:\n",
    "        axes[i].legend().remove()\n",
    "\n",
    "plt.tight_layout()\n",
    "plt.show()"
   ],
   "id": "94783a3632ca3b32",
   "outputs": [],
   "execution_count": null
  },
  {
   "metadata": {},
   "cell_type": "markdown",
   "source": "### absolute error over time",
   "id": "fc70d55e57641adc"
  },
  {
   "metadata": {},
   "cell_type": "markdown",
   "source": "retrieve the predictions, maybe group them by day/week/month to see error at different points in time",
   "id": "1ee7d4dc4c1082fa"
  },
  {
   "metadata": {
    "ExecuteTime": {
     "end_time": "2025-05-13T15:07:25.335403Z",
     "start_time": "2025-05-13T15:07:10.081212Z"
    }
   },
   "cell_type": "code",
   "source": [
    "import pandas as pd\n",
    "import pickle as pkl\n",
    "from epf.util import predict_with_timestamps\n",
    "from datetime import datetime, timezone\n",
    "import matplotlib.pyplot as plt\n",
    "\n",
    "with open(\"../models/lstm_vre.pkl\", \"rb\") as f:\n",
    "    model_obj = pkl.load(f)\n",
    "\n",
    "window = model_obj['window']\n",
    "test_df = model_obj['test_df']\n",
    "model = model_obj['best_model']\n",
    "\n",
    "subset = window.get_test_subset(datetime(2024, 1, 1, 0, 0, tzinfo= timezone.utc), datetime(2024, 3, 31, 23, 0, tzinfo= timezone.utc))\n",
    "df_preds, df_trues = predict_with_timestamps(model, window.test_ts, label_columns=window.label_columns)"
   ],
   "id": "a075bcf8bb83e9c8",
   "outputs": [],
   "execution_count": 6
  },
  {
   "metadata": {
    "ExecuteTime": {
     "end_time": "2025-05-13T15:08:35.033630Z",
     "start_time": "2025-05-13T15:08:35.018004Z"
    }
   },
   "cell_type": "code",
   "source": [
    "df_preds.set_index('timestamp', inplace=True)\n",
    "df_trues.set_index('timestamp', inplace=True)"
   ],
   "id": "517cb68795a24db4",
   "outputs": [],
   "execution_count": 9
  },
  {
   "metadata": {
    "ExecuteTime": {
     "end_time": "2025-05-13T15:14:43.622868Z",
     "start_time": "2025-05-13T15:14:43.499562Z"
    }
   },
   "cell_type": "code",
   "source": [
    "import numpy as np\n",
    "\n",
    "mae_per_horizon = np.mean(np.abs(df_trues.iloc[:, 1:].values - df_preds.iloc[:, 1:].values), axis=0)\n",
    "\n",
    "plt.bar(range(1, 24), mae_per_horizon)\n",
    "plt.xlabel(\"Forecast Horizon (t + x hours)\")\n",
    "plt.ylabel(\"Mean Absolute Error\")\n",
    "plt.title(\"MAE by Forecast Horizon\")\n",
    "plt.grid(True)\n",
    "plt.show()"
   ],
   "id": "981162925a31bfdd",
   "outputs": [
    {
     "data": {
      "text/plain": [
       "<Figure size 640x480 with 1 Axes>"
      ],
      "image/png": "[encoded data removed]"
     },
     "metadata": {},
     "output_type": "display_data"
    }
   ],
   "execution_count": 34
  },
  {
   "metadata": {
    "ExecuteTime": {
     "end_time": "2025-05-13T15:26:18.465210Z",
     "start_time": "2025-05-13T15:26:18.316310Z"
    }
   },
   "cell_type": "code",
   "source": [
    "df_errors = df_preds.copy()\n",
    "df_errors.iloc[:, 1:] = np.abs(df_preds.iloc[:, 1:] - df_trues.iloc[:, 1:])\n",
    "\n",
    "df_errors[\"hour\"] = df_errors.index.hour\n",
    "hourly_mae = df_errors.groupby(\"hour\").mean().mean(axis=1)\n",
    "\n",
    "sns.set_style('ticks')\n",
    "\n",
    "hourly_mae.plot(kind=\"bar\")\n",
    "plt.xlabel(\"Hour of Day (forecast origin)\")\n",
    "plt.ylabel(\"Average MAE\")\n",
    "plt.title(\"Forecast Error vs. Time of Day\")\n",
    "plt.ylim(0,1)\n",
    "plt.show()"
   ],
   "id": "8d761350000a5c48",
   "outputs": [
    {
     "data": {
      "text/plain": [
       "<Figure size 640x480 with 1 Axes>"
      ],
      "image/png": "[encoded data removed]"
     },
     "metadata": {},
     "output_type": "display_data"
    }
   ],
   "execution_count": 39
  },
  {
   "metadata": {
    "ExecuteTime": {
     "end_time": "2025-05-13T16:17:00.739301Z",
     "start_time": "2025-05-13T16:17:00.662846Z"
    }
   },
   "cell_type": "code",
   "source": [
    "import pandas as pd\n",
    "\n",
    "ghi = pd.read_csv(\"../data/raw/de_global_horizontal_irradiation_2024.csv\", skiprows=6, parse_dates=True, index_col=1, names=['location_id','ghi']).pivot(columns='location_id', values='ghi')\n",
    "ws = pd.read_csv(\"../data/raw/de_wind_speed_100_2024.csv\", skiprows=6, parse_dates=True, index_col=1, names=['location_id','ws']).pivot(columns='location_id', values='ws')"
   ],
   "id": "eaa2f55e443f9c9b",
   "outputs": [
    {
     "name": "stderr",
     "output_type": "stream",
     "text": [
      "C:\\Users\\valen\\AppData\\Local\\Temp\\ipykernel_15024\\1988308287.py:3: UserWarning: Could not infer format, so each element will be parsed individually, falling back to `dateutil`. To ensure parsing is consistent and as-expected, please specify a format.\n",
      "  ghi = pd.read_csv(\"../data/raw/de_global_horizontal_irradiation_2024.csv\", skiprows=6, parse_dates=True, index_col=1, names=['location_id','ghi']).pivot(columns='location_id', values='ghi')\n",
      "C:\\Users\\valen\\AppData\\Local\\Temp\\ipykernel_15024\\1988308287.py:4: UserWarning: Could not infer format, so each element will be parsed individually, falling back to `dateutil`. To ensure parsing is consistent and as-expected, please specify a format.\n",
      "  ws = pd.read_csv(\"../data/raw/de_wind_speed_100_2024.csv\", skiprows=6, parse_dates=True, index_col=1, names=['location_id','ws']).pivot(columns='location_id', values='ws')\n"
     ]
    }
   ],
   "execution_count": 75
  },
  {
   "metadata": {
    "ExecuteTime": {
     "end_time": "2025-05-13T15:46:39.218841Z",
     "start_time": "2025-05-13T15:46:39.187591Z"
    }
   },
   "cell_type": "code",
   "source": "ghi",
   "id": "6e5ff06bc19fcf00",
   "outputs": [
    {
     "data": {
      "text/plain": [
       "                     location_id  shortwave_radiation (W/m²)\n",
       "time                                                        \n",
       "2024-01-01 00:00:00            0                         0.0\n",
       "2024-01-01 01:00:00            0                         0.0\n",
       "2024-01-01 02:00:00            0                         0.0\n",
       "2024-01-01 03:00:00            0                         0.0\n",
       "2024-01-01 04:00:00            0                         0.0\n",
       "...                          ...                         ...\n",
       "2024-12-31 19:00:00            4                         0.0\n",
       "2024-12-31 20:00:00            4                         0.0\n",
       "2024-12-31 21:00:00            4                         0.0\n",
       "2024-12-31 22:00:00            4                         0.0\n",
       "2024-12-31 23:00:00            4                         0.0\n",
       "\n",
       "[43920 rows x 2 columns]"
      ],
      "text/html": [
       "<div>\n",
       "<style scoped>\n",
       "    .dataframe tbody tr th:only-of-type {\n",
       "        vertical-align: middle;\n",
       "    }\n",
       "\n",
       "    .dataframe tbody tr th {\n",
       "        vertical-align: top;\n",
       "    }\n",
       "\n",
       "    .dataframe thead th {\n",
       "        text-align: right;\n",
       "    }\n",
       "</style>\n",
       "<table border=\"1\" class=\"dataframe\">\n",
       "  <thead>\n",
       "    <tr style=\"text-align: right;\">\n",
       "      <th></th>\n",
       "      <th>location_id</th>\n",
       "      <th>shortwave_radiation (W/m²)</th>\n",
       "    </tr>\n",
       "    <tr>\n",
       "      <th>time</th>\n",
       "      <th></th>\n",
       "      <th></th>\n",
       "    </tr>\n",
       "  </thead>\n",
       "  <tbody>\n",
       "    <tr>\n",
       "      <th>2024-01-01 00:00:00</th>\n",
       "      <td>0</td>\n",
       "      <td>0.0</td>\n",
       "    </tr>\n",
       "    <tr>\n",
       "      <th>2024-01-01 01:00:00</th>\n",
       "      <td>0</td>\n",
       "      <td>0.0</td>\n",
       "    </tr>\n",
       "    <tr>\n",
       "      <th>2024-01-01 02:00:00</th>\n",
       "      <td>0</td>\n",
       "      <td>0.0</td>\n",
       "    </tr>\n",
       "    <tr>\n",
       "      <th>2024-01-01 03:00:00</th>\n",
       "      <td>0</td>\n",
       "      <td>0.0</td>\n",
       "    </tr>\n",
       "    <tr>\n",
       "      <th>2024-01-01 04:00:00</th>\n",
       "      <td>0</td>\n",
       "      <td>0.0</td>\n",
       "    </tr>\n",
       "    <tr>\n",
       "      <th>...</th>\n",
       "      <td>...</td>\n",
       "      <td>...</td>\n",
       "    </tr>\n",
       "    <tr>\n",
       "      <th>2024-12-31 19:00:00</th>\n",
       "      <td>4</td>\n",
       "      <td>0.0</td>\n",
       "    </tr>\n",
       "    <tr>\n",
       "      <th>2024-12-31 20:00:00</th>\n",
       "      <td>4</td>\n",
       "      <td>0.0</td>\n",
       "    </tr>\n",
       "    <tr>\n",
       "      <th>2024-12-31 21:00:00</th>\n",
       "      <td>4</td>\n",
       "      <td>0.0</td>\n",
       "    </tr>\n",
       "    <tr>\n",
       "      <th>2024-12-31 22:00:00</th>\n",
       "      <td>4</td>\n",
       "      <td>0.0</td>\n",
       "    </tr>\n",
       "    <tr>\n",
       "      <th>2024-12-31 23:00:00</th>\n",
       "      <td>4</td>\n",
       "      <td>0.0</td>\n",
       "    </tr>\n",
       "  </tbody>\n",
       "</table>\n",
       "<p>43920 rows × 2 columns</p>\n",
       "</div>"
      ]
     },
     "execution_count": 69,
     "metadata": {},
     "output_type": "execute_result"
    }
   ],
   "execution_count": 69
  },
  {
   "metadata": {
    "ExecuteTime": {
     "end_time": "2025-05-13T16:14:58.690129Z",
     "start_time": "2025-05-13T16:14:58.674534Z"
    }
   },
   "cell_type": "code",
   "source": "ws",
   "id": "a7deaa4304ad3da7",
   "outputs": [
    {
     "data": {
      "text/plain": [
       "                     location_id  wind_speed_100m (km/h)\n",
       "time                                                    \n",
       "2024-01-01 00:00:00            0                    37.9\n",
       "2024-01-01 01:00:00            0                    40.8\n",
       "2024-01-01 02:00:00            0                    42.1\n",
       "2024-01-01 03:00:00            0                    41.0\n",
       "2024-01-01 04:00:00            0                    43.1\n",
       "...                          ...                     ...\n",
       "2024-12-31 19:00:00            4                    41.3\n",
       "2024-12-31 20:00:00            4                    43.3\n",
       "2024-12-31 21:00:00            4                    43.9\n",
       "2024-12-31 22:00:00            4                    44.1\n",
       "2024-12-31 23:00:00            4                    45.6\n",
       "\n",
       "[43920 rows x 2 columns]"
      ],
      "text/html": [
       "<div>\n",
       "<style scoped>\n",
       "    .dataframe tbody tr th:only-of-type {\n",
       "        vertical-align: middle;\n",
       "    }\n",
       "\n",
       "    .dataframe tbody tr th {\n",
       "        vertical-align: top;\n",
       "    }\n",
       "\n",
       "    .dataframe thead th {\n",
       "        text-align: right;\n",
       "    }\n",
       "</style>\n",
       "<table border=\"1\" class=\"dataframe\">\n",
       "  <thead>\n",
       "    <tr style=\"text-align: right;\">\n",
       "      <th></th>\n",
       "      <th>location_id</th>\n",
       "      <th>wind_speed_100m (km/h)</th>\n",
       "    </tr>\n",
       "    <tr>\n",
       "      <th>time</th>\n",
       "      <th></th>\n",
       "      <th></th>\n",
       "    </tr>\n",
       "  </thead>\n",
       "  <tbody>\n",
       "    <tr>\n",
       "      <th>2024-01-01 00:00:00</th>\n",
       "      <td>0</td>\n",
       "      <td>37.9</td>\n",
       "    </tr>\n",
       "    <tr>\n",
       "      <th>2024-01-01 01:00:00</th>\n",
       "      <td>0</td>\n",
       "      <td>40.8</td>\n",
       "    </tr>\n",
       "    <tr>\n",
       "      <th>2024-01-01 02:00:00</th>\n",
       "      <td>0</td>\n",
       "      <td>42.1</td>\n",
       "    </tr>\n",
       "    <tr>\n",
       "      <th>2024-01-01 03:00:00</th>\n",
       "      <td>0</td>\n",
       "      <td>41.0</td>\n",
       "    </tr>\n",
       "    <tr>\n",
       "      <th>2024-01-01 04:00:00</th>\n",
       "      <td>0</td>\n",
       "      <td>43.1</td>\n",
       "    </tr>\n",
       "    <tr>\n",
       "      <th>...</th>\n",
       "      <td>...</td>\n",
       "      <td>...</td>\n",
       "    </tr>\n",
       "    <tr>\n",
       "      <th>2024-12-31 19:00:00</th>\n",
       "      <td>4</td>\n",
       "      <td>41.3</td>\n",
       "    </tr>\n",
       "    <tr>\n",
       "      <th>2024-12-31 20:00:00</th>\n",
       "      <td>4</td>\n",
       "      <td>43.3</td>\n",
       "    </tr>\n",
       "    <tr>\n",
       "      <th>2024-12-31 21:00:00</th>\n",
       "      <td>4</td>\n",
       "      <td>43.9</td>\n",
       "    </tr>\n",
       "    <tr>\n",
       "      <th>2024-12-31 22:00:00</th>\n",
       "      <td>4</td>\n",
       "      <td>44.1</td>\n",
       "    </tr>\n",
       "    <tr>\n",
       "      <th>2024-12-31 23:00:00</th>\n",
       "      <td>4</td>\n",
       "      <td>45.6</td>\n",
       "    </tr>\n",
       "  </tbody>\n",
       "</table>\n",
       "<p>43920 rows × 2 columns</p>\n",
       "</div>"
      ]
     },
     "execution_count": 72,
     "metadata": {},
     "output_type": "execute_result"
    }
   ],
   "execution_count": 72
  },
  {
   "metadata": {},
   "cell_type": "code",
   "outputs": [],
   "execution_count": null,
   "source": "weather_df = pd.DataFrame",
   "id": "58d7a5f8849c8693"
  },
  {
   "metadata": {},
   "cell_type": "code",
   "outputs": [],
   "execution_count": null,
   "source": [
    "df_errors[\"irradiation\"] = weather_df[\"global_irradiation\"].values\n",
    "df_errors[\"mean_mae\"] = df_errors.iloc[:, 1:25].mean(axis=1)\n",
    "\n",
    "plt.scatter(df_errors[\"irradiation\"], df_errors[\"mean_mae\"], alpha=0.3)\n",
    "plt.xlabel(\"Global Irradiation\")\n",
    "plt.ylabel(\"Mean MAE (all horizons)\")\n",
    "plt.title(\"Forecast Error vs. Solar Irradiation\")\n",
    "plt.grid(True)\n",
    "plt.show()"
   ],
   "id": "bf1ac5fc074bebe3"
  }
 ],
 "metadata": {
  "kernelspec": {
   "display_name": "Python 3",
   "language": "python",
   "name": "python3"
  },
  "language_info": {
   "codemirror_mode": {
    "name": "ipython",
    "version": 2
   },
   "file_extension": ".py",
   "mimetype": "text/x-python",
   "name": "python",
   "nbconvert_exporter": "python",
   "pygments_lexer": "ipython2",
   "version": "2.7.6"
  }
 },
 "nbformat": 4,
 "nbformat_minor": 5
}
