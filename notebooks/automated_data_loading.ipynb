{
 "cells": [
  {
   "cell_type": "code",
   "execution_count": null,
   "id": "initial_id",
   "metadata": {
    "collapsed": true
   },
   "outputs": [],
   "source": [
    "r_de_load = requests.get(\n",
    "    \"https://api.energy-charts.info/public_power?country=de&start=2022-12-31T23:00Z&end=2024-12-31T22:45Z\")\n",
    "r_ch_load = requests.get(\n",
    "    \"https://api.energy-charts.info/public_power?country=ch&start=2022-12-31T23:00Z&end=2024-12-31T22:00Z\")\n",
    "r_dk_load = requests.get(\n",
    "    \"https://api.energy-charts.info/public_power?country=dk&start=2022-12-31T23:00Z&end=2024-12-31T22:00Z\")\n",
    "r_fr_load = requests.get(\n",
    "    \"https://api.energy-charts.info/public_power?country=fr&start=2022-12-31T23:00Z&end=2024-12-31T22:00Z\")\n",
    "\n",
    "r_de_prices = requests.get(\n",
    "    \"https://api.energy-charts.info/price?bzn=DE-LU&start=2022-12-31T23:00Z&end=2024-12-31T22:00Z\")\n",
    "r_ch_prices = requests.get(\"https://api.energy-charts.info/price?bzn=CH&start=2022-12-31T23:00Z&end=2024-12-31T22:00Z\")\n",
    "r_dk1_prices = requests.get(\n",
    "    \"https://api.energy-charts.info/price?bzn=DK1&start=2022-12-31T23:00Z&end=2024-12-31T22:00Z\")\n",
    "r_dk2_prices = requests.get(\n",
    "    \"https://api.energy-charts.info/price?bzn=DK2&start=2022-12-31T23:00Z&end=2024-12-31T22:00Z\")\n",
    "r_fr_prices = requests.get(\"https://api.energy-charts.info/price?bzn=FR&start=2022-12-31T23:00Z&end=2024-12-31T22:00Z\")\n",
    "r = [r_de_load, r_ch_load, r_dk_load, r_fr_load, r_de_prices, r_ch_prices, r_dk1_prices, r_dk2_prices, r_fr_prices]\n",
    "for _ in r:\n",
    "    print(_.ok)\n",
    "timestamp = [ts.json()['unix_seconds'] for ts in r]\n",
    "# give me all keys and all name values of the production data key\n",
    "for i in range(len(r)):\n",
    "    for key, value in r[i].json().items():\n",
    "        if key == 'production_types':\n",
    "            print(f\"Key: {key}\")\n",
    "            val = [val['name'] for val in value]\n",
    "            print(f\"Value: {val}\")\n",
    "# construct a dataframe containing the data from the requests. attention: from ch, dk and fr load sets i only want to retrieve the entire load. from de load i only want lignite, hard coal, gas, wind onshore, wind offshore, solar and the overall load. the request r_de_load has to be resampled because its frequency is 15 min so only take the value for every full hour\n",
    "df = pd.DataFrame()\n",
    "\n",
    "for i in range(len(r)):\n",
    "    for key, value in r[i].json().items():\n",
    "        if key == 'production_types':\n",
    "            for val in value:\n",
    "                if val['name'] in ['Lignite', 'Hard Coal', 'Gas', 'Wind Onshore', 'Wind Offshore', 'Solar',\n",
    "                                   'Total Load']:\n",
    "                    df[val['name']] = pd.Series(val['data']).resample('H').mean()\n",
    "        elif key == 'price':\n",
    "            df['Price'] = pd.Series(value).resample('H').mean()\n",
    "        elif key == 'total_load':\n",
    "            df['Total Load'] = pd.Series(value).resample('H').mean()"
   ]
  },
  {
   "metadata": {},
   "cell_type": "code",
   "outputs": [],
   "execution_count": null,
   "source": "",
   "id": "7f459e7d02686844"
  }
 ],
 "metadata": {
  "kernelspec": {
   "display_name": "Python 3",
   "language": "python",
   "name": "python3"
  },
  "language_info": {
   "codemirror_mode": {
    "name": "ipython",
    "version": 2
   },
   "file_extension": ".py",
   "mimetype": "text/x-python",
   "name": "python",
   "nbconvert_exporter": "python",
   "pygments_lexer": "ipython2",
   "version": "2.7.6"
  }
 },
 "nbformat": 4,
 "nbformat_minor": 5
}
